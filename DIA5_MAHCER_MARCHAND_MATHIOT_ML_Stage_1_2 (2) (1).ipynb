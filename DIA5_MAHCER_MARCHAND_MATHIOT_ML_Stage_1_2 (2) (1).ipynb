{
 "cells": [
  {
   "cell_type": "markdown",
   "id": "57f84bf6-fdb6-4e3c-8831-eaff7f1aedca",
   "metadata": {},
   "source": [
    "# Projet Machine Learning DIA5 : MATHIOT Ariste, MAHCER Neil, MARCHAND Nicolas"
   ]
  },
  {
   "cell_type": "markdown",
   "id": "756439a6-4dbc-49df-9eeb-401c28f4439c",
   "metadata": {},
   "source": [
    "Faire une description du projet : "
   ]
  },
  {
   "cell_type": "markdown",
   "id": "33e29557-d687-4376-811d-2ac69cf69109",
   "metadata": {},
   "source": [
    "# Import des bibliothèques"
   ]
  },
  {
   "cell_type": "code",
   "execution_count": null,
   "id": "79193917",
   "metadata": {},
   "outputs": [],
   "source": [
    "import pandas as pd\n",
    "import numpy as np\n",
    "import matplotlib.pyplot as plt\n",
    "from sklearn.model_selection import train_test_split\n",
    "from sklearn.linear_model import LogisticRegression\n",
    "from sklearn.metrics import accuracy_score, classification_report, confusion_matrix, roc_auc_score, roc_curve\n",
    "import seaborn as sns\n",
    "from sklearn.preprocessing import RobustScaler\n",
    "from sklearn.preprocessing import StandardScaler\n",
    "from sklearn.pipeline import Pipeline\n",
    "from sklearn.ensemble import GradientBoostingClassifier, RandomForestClassifier\n",
    "from sklearn.svm import SVC\n",
    "from sklearn.neighbors import KNeighborsClassifier\n",
    "from sklearn.preprocessing import StandardScaler\n",
    "from sklearn.pipeline import Pipeline\n",
    "from sklearn.model_selection import train_test_split\n",
    "from sklearn.metrics import accuracy_score, classification_report, confusion_matrix\n",
    "from sklearn.ensemble import RandomForestClassifier\n",
    "from sklearn.model_selection import cross_val_score, StratifiedKFold\n",
    "from sklearn.ensemble import RandomForestClassifier\n",
    "from sklearn.pipeline import Pipeline\n",
    "from sklearn.preprocessing import StandardScaler\n",
    "from sklearn.decomposition import PCA\n",
    "import xgboost as xgb\n",
    "from imblearn.over_sampling import SMOTE\n",
    "from imblearn.combine import SMOTEENN"
   ]
  },
  {
   "cell_type": "markdown",
   "id": "915c5171-1f2f-40c5-8243-0ac33a242900",
   "metadata": {},
   "source": [
    "# Analyse du dataframe"
   ]
  },
  {
   "cell_type": "code",
   "execution_count": null,
   "id": "b5f30a47",
   "metadata": {},
   "outputs": [],
   "source": [
    "df=pd.read_csv(\"C:/Users/arist/Downloads/card_transdata.csv/card_transdata.csv\",sep=\",\")\n",
    "df.head(10)"
   ]
  },
  {
   "cell_type": "markdown",
   "id": "15fb152d-9ee1-412b-a671-39710730c407",
   "metadata": {},
   "source": [
    "Grâce au df.head on remarque que le df est bien importé avec des valeurs cohérentes."
   ]
  },
  {
   "cell_type": "code",
   "execution_count": null,
   "id": "353f5c09-6d0f-4f82-a5e1-53b6078667ef",
   "metadata": {},
   "outputs": [],
   "source": [
    "nombre_de_lignes = df.shape[0]\n",
    "print(f\"Nombre de lignes : {nombre_de_lignes}\")"
   ]
  },
  {
   "cell_type": "markdown",
   "id": "c51a88b9-f82b-4b41-b486-ac98935207fe",
   "metadata": {},
   "source": [
    "On a 1M de lignes ce qui veut dire que notre df contient beaucoup d'informations et donc on peut faire une analyse de qualité"
   ]
  },
  {
   "cell_type": "code",
   "execution_count": null,
   "id": "7c788722",
   "metadata": {},
   "outputs": [],
   "source": [
    "df.isnull().sum()"
   ]
  },
  {
   "cell_type": "markdown",
   "id": "5d23fca4-6893-4563-bd0b-6da8ebb0ba9f",
   "metadata": {},
   "source": [
    "On a aucun null donc cela veut dire que notre data frame ne contient pas de valeurs manquantes "
   ]
  },
  {
   "cell_type": "code",
   "execution_count": null,
   "id": "2af4a0af-2c9a-4676-9678-f3e1d0e8842c",
   "metadata": {},
   "outputs": [],
   "source": [
    "# Calcul des valeurs nulles et non nulles\n",
    "total_nulls = df.isnull().sum().sum()\n",
    "total_non_nulls = df.notnull().sum().sum()\n",
    "\n",
    "# Préparation des données pour le barplot\n",
    "counts = {\n",
    "    'Null': total_nulls,\n",
    "    'Non-Null': total_non_nulls\n",
    "}\n",
    "\n",
    "# Création du barplot\n",
    "plt.figure(figsize=(6, 5))\n",
    "plt.bar(counts.keys(), counts.values(), color=['orange', 'green'], edgecolor='black')\n",
    "plt.title(\"Répartition des valeurs nulles et non nulles\")\n",
    "plt.ylabel(\"Nombre de valeurs\")\n",
    "plt.xlabel(\"Catégories\")\n",
    "plt.show()"
   ]
  },
  {
   "cell_type": "code",
   "execution_count": null,
   "id": "49afdd4d-7adc-46aa-a7b3-25b3d1873535",
   "metadata": {},
   "outputs": [],
   "source": [
    "df.info()"
   ]
  },
  {
   "cell_type": "markdown",
   "id": "b0f66679",
   "metadata": {},
   "source": [
    "Toutes nos valeurs sont du même type"
   ]
  },
  {
   "cell_type": "code",
   "execution_count": null,
   "id": "7f16d96e-6105-433f-848a-3bd18ccca5f5",
   "metadata": {},
   "outputs": [],
   "source": [
    "df.describe()"
   ]
  },
  {
   "cell_type": "markdown",
   "id": "f54edd95-6b31-446b-b733-db5576d048f4",
   "metadata": {},
   "source": [
    "Analyse :\n",
    "Le DataFrame est complet et bien préparé pour des analyses, car aucune valeur manquante n'est présente.\n",
    "Les statistiques montrent une grande variabilité dans certaines colonnes, comme distance_from_last_transaction et distance_from_home, qui pourraient nécessiter une normalisation ou un traitement supplémentaire.\n",
    "Les colonnes binaires comme used_chip, used_pin_number, et online_order semblent représenter des indicateurs booléens (0 ou 1)."
   ]
  },
  {
   "cell_type": "code",
   "execution_count": 8,
   "id": "84b21e26",
   "metadata": {},
   "outputs": [
    {
     "data": {
      "text/plain": [
       "87403.0"
      ]
     },
     "execution_count": 8,
     "metadata": {},
     "output_type": "execute_result"
    }
   ],
   "source": [
    "# On compte le nombre de fraude\n",
    "\n",
    "df.loc[df['fraud'] != 0, 'fraud'].sum()"
   ]
  },
  {
   "cell_type": "markdown",
   "id": "8af6472a-67e5-45a0-ad53-6fcd34824413",
   "metadata": {},
   "source": [
    "# Visualisation de la proportion du dataset"
   ]
  },
  {
   "cell_type": "code",
   "execution_count": 9,
   "id": "13ba8c7d",
   "metadata": {},
   "outputs": [
    {
     "data": {
      "image/png": "[encoded data removed]",
      "text/plain": [
       "<Figure size 600x600 with 1 Axes>"
      ]
     },
     "metadata": {},
     "output_type": "display_data"
    }
   ],
   "source": [
    "fraud_counts = df['fraud'].value_counts()\n",
    "\n",
    "plt.figure(figsize=(6, 6))\n",
    "plt.pie(fraud_counts, labels=['0 (Non-fraud)', '1 (Fraud)'], autopct='%1.1f%%', startangle=90, colors=['#66c2a5', '#fc8d62'])\n",
    "plt.title(\"Répartition des transactions frauduleuses\")\n",
    "plt.show()"
   ]
  },
  {
   "cell_type": "markdown",
   "id": "52b418bb-a506-48bd-8e7b-2e923cb98514",
   "metadata": {},
   "source": [
    "On a un dataset unbalanced, c'est à dire qu'on a une grande majorité de non fraude(91.3%), il faudra faire attention et ne pas tester seulement l'accuracy"
   ]
  },
  {
   "cell_type": "markdown",
   "id": "ef9af775-8ae3-4d4e-9a8a-cae72becb400",
   "metadata": {},
   "source": [
    "# Sans Scaler"
   ]
  },
  {
   "cell_type": "code",
   "execution_count": 21,
   "id": "f7d6d19c",
   "metadata": {},
   "outputs": [
    {
     "name": "stdout",
     "output_type": "stream",
     "text": [
      "Accuracy: 0.9577014099530016\n"
     ]
    }
   ],
   "source": [
    "X = df.loc[:100000].drop('fraud', axis=1)\n",
    "y = df.loc[:100000,'fraud']\n",
    "\n",
    "\n",
    "X_train, X_test, y_train, y_test = train_test_split(X, y, test_size=0.3, random_state=42)\n",
    "pipeline_no_scaler = Pipeline([\n",
    "    ('log_reg', LogisticRegression(max_iter=200))\n",
    "])\n",
    "\n",
    "pipeline_no_scaler.fit(X_train, y_train)\n",
    "y_pred = pipeline_no_scaler.predict(X_test)\n",
    "# Calcul des métriques de performance\n",
    "accuracy = accuracy_score(y_test, y_pred)\n",
    "\n",
    "\n",
    "print(\"Accuracy:\", accuracy)"
   ]
  },
  {
   "cell_type": "markdown",
   "id": "08b962de-811e-4f06-8f64-b6c3b850b542",
   "metadata": {},
   "source": [
    "On a une très bonne précision mais cela ne veut pas dire grande chose pour l'instant a cause du df unbalanced"
   ]
  },
  {
   "cell_type": "markdown",
   "id": "2e45f07f-a785-40a2-ab48-43ef87683d97",
   "metadata": {},
   "source": [
    "# Robust Scaler"
   ]
  },
  {
   "cell_type": "code",
   "execution_count": 11,
   "id": "42deae8a",
   "metadata": {},
   "outputs": [
    {
     "name": "stdout",
     "output_type": "stream",
     "text": [
      "Accuracy: 0.9577014099530016\n"
     ]
    }
   ],
   "source": [
    "pipeline_robust = Pipeline([\n",
    "    ('scaler', RobustScaler()),\n",
    "    ('log_reg', LogisticRegression(max_iter=200))\n",
    "])\n",
    "pipeline_robust.fit(X_train, y_train)\n",
    "y_pred = pipeline_robust.predict(X_test)\n",
    "# Calcul des métriques de performance\n",
    "accuracy = accuracy_score(y_test, y_pred)\n",
    "\n",
    "\n",
    "print(\"Accuracy:\", accuracy)"
   ]
  },
  {
   "cell_type": "markdown",
   "id": "05cc18e3-ea61-4cc8-a338-48cb9210c89a",
   "metadata": {},
   "source": [
    "Même remarque que précedemment "
   ]
  },
  {
   "cell_type": "markdown",
   "id": "941e7fb1-fbb7-4d5e-ab60-c438d5bbb89c",
   "metadata": {},
   "source": [
    "# Standard Scaler"
   ]
  },
  {
   "cell_type": "code",
   "execution_count": 12,
   "id": "54f95441",
   "metadata": {},
   "outputs": [
    {
     "name": "stdout",
     "output_type": "stream",
     "text": [
      "Accuracy: 0.9584347188427053\n",
      "\n",
      "Classification Report:\n",
      "               precision    recall  f1-score   support\n",
      "\n",
      "         0.0       0.96      0.99      0.98     27412\n",
      "         1.0       0.89      0.59      0.71      2589\n",
      "\n",
      "    accuracy                           0.96     30001\n",
      "   macro avg       0.93      0.79      0.84     30001\n",
      "weighted avg       0.96      0.96      0.95     30001\n",
      "\n",
      "\n",
      "Confusion Matrix:\n",
      " [[27218   194]\n",
      " [ 1053  1536]]\n",
      "\n",
      "ROC AUC Score: 0.965445829618366\n"
     ]
    },
    {
     "data": {
      "image/png": "[encoded data removed]",
      "text/plain": [
       "<Figure size 600x400 with 2 Axes>"
      ]
     },
     "metadata": {},
     "output_type": "display_data"
    },
    {
     "data": {
      "image/png": "[encoded data removed]",
      "text/plain": [
       "<Figure size 600x400 with 1 Axes>"
      ]
     },
     "metadata": {},
     "output_type": "display_data"
    }
   ],
   "source": [
    "pipeline_standard = Pipeline([\n",
    "    ('scaler', StandardScaler()),\n",
    "    ('log_reg', LogisticRegression(max_iter=200))\n",
    "])\n",
    "pipeline_standard.fit(X_train, y_train)\n",
    "# Prédiction sur l'ensemble de test\n",
    "y_pred = pipeline_standard.predict(X_test)\n",
    "y_pred_proba = pipeline_standard.predict_proba(X_test)[:, 1]  # Probabilités pour la classe positive\n",
    "\n",
    "# Calcul des métriques de performance\n",
    "accuracy = accuracy_score(y_test, y_pred)\n",
    "classification_rep = classification_report(y_test, y_pred)\n",
    "conf_matrix = confusion_matrix(y_test, y_pred)\n",
    "roc_auc = roc_auc_score(y_test, y_pred_proba)\n",
    "\n",
    "# Affichage des résultats\n",
    "print(\"Accuracy:\", accuracy)\n",
    "print(\"\\nClassification Report:\\n\", classification_rep)\n",
    "print(\"\\nConfusion Matrix:\\n\", conf_matrix)\n",
    "print(\"\\nROC AUC Score:\", roc_auc)\n",
    "\n",
    "# Visualisation de la matrice de confusion\n",
    "plt.figure(figsize=(6, 4))\n",
    "sns.heatmap(conf_matrix, annot=True, fmt=\"d\", cmap=\"Blues\")\n",
    "plt.title(\"Confusion Matrix\")\n",
    "plt.xlabel(\"Predicted Label\")\n",
    "plt.ylabel(\"True Label\")\n",
    "plt.show()\n",
    "\n",
    "# Courbe ROC\n",
    "fpr, tpr, _ = roc_curve(y_test, y_pred_proba)\n",
    "plt.figure(figsize=(6, 4))\n",
    "plt.plot(fpr, tpr, label=\"Logistic Regression (AUC = {:.2f})\".format(roc_auc))\n",
    "plt.plot([0, 1], [0, 1], 'k--')  \n",
    "plt.xlabel(\"False Positive Rate\")\n",
    "plt.ylabel(\"True Positive Rate\")\n",
    "plt.title(\"ROC Curve\")\n",
    "plt.legend()\n",
    "plt.show()\n"
   ]
  },
  {
   "cell_type": "markdown",
   "id": "5e6674da",
   "metadata": {},
   "source": [
    "# PCA"
   ]
  },
  {
   "cell_type": "code",
   "execution_count": 22,
   "id": "d38cb998",
   "metadata": {},
   "outputs": [
    {
     "name": "stdout",
     "output_type": "stream",
     "text": [
      "              precision    recall  f1-score   support\n",
      "\n",
      "         0.0       0.92      1.00      0.96     27412\n",
      "         1.0       0.53      0.05      0.10      2589\n",
      "\n",
      "    accuracy                           0.91     30001\n",
      "   macro avg       0.73      0.52      0.53     30001\n",
      "weighted avg       0.88      0.91      0.88     30001\n",
      "\n"
     ]
    }
   ],
   "source": [
    "pipeline = Pipeline([\n",
    "    ('scaler', StandardScaler()),\n",
    "    ('pca', PCA(n_components=3)),  # Ajustez le nombre de composantes selon vos besoins\n",
    "    ('log_reg', LogisticRegression(max_iter=200))\n",
    "])\n",
    "\n",
    "pipeline.fit(X_train, y_train)\n",
    "\n",
    "y_pred = pipeline.predict(X_test)\n",
    "print(classification_report(y_test, y_pred))"
   ]
  },
  {
   "cell_type": "markdown",
   "id": "12682208",
   "metadata": {},
   "source": [
    "On remarque que les résultats sont très mauvais grace au recall et à la precision. Il faudrait peut être le combiné avec SMOTE. Je pense que c'est du au dataset imbalenced."
   ]
  },
  {
   "cell_type": "markdown",
   "id": "f402aa4b-cfa0-40f5-be5a-7789183978b7",
   "metadata": {},
   "source": [
    "On a la meilleur précision avec le standard scaler donc on le choisit mais le recall pour la classe 1 n'est pas bon (0.59), il faut arranger cela"
   ]
  },
  {
   "cell_type": "code",
   "execution_count": 13,
   "id": "d8d914ed",
   "metadata": {},
   "outputs": [
    {
     "data": {
      "text/plain": [
       "array([[  0.01438736,   0.02260523,   0.82372459,  -0.50383346,\n",
       "         -1.02408778, -10.71274073,   6.32057579]])"
      ]
     },
     "execution_count": 13,
     "metadata": {},
     "output_type": "execute_result"
    }
   ],
   "source": [
    "model=LogisticRegression(max_iter=200)\n",
    "model.fit(X_train,y_train)\n",
    "model.coef_"
   ]
  },
  {
   "cell_type": "markdown",
   "id": "96c016f8-1f23-48e8-af20-4f3b13ad4d51",
   "metadata": {},
   "source": [
    "On supprime les 2 premières colonnes car elles semblent inutiles"
   ]
  },
  {
   "cell_type": "code",
   "execution_count": 14,
   "id": "145c20b6",
   "metadata": {},
   "outputs": [
    {
     "name": "stdout",
     "output_type": "stream",
     "text": [
      "Accuracy: 0.9534033333333334\n"
     ]
    }
   ],
   "source": [
    "X = df.drop([\"distance_from_home\",\"distance_from_last_transaction\",'fraud'], axis=1)  # Toutes les colonnes sauf 'fraud'\n",
    "y = df['fraud']\n",
    "X_train, X_test, y_train, y_test = train_test_split(X, y, test_size=0.3, random_state=42)\n",
    "pipeline_sans_les2col = Pipeline([\n",
    "    ('scaler', StandardScaler()),\n",
    "    ('log_reg', LogisticRegression(max_iter=200))\n",
    "])\n",
    "pipeline_sans_les2col.fit(X_train, y_train)\n",
    "y_pred = pipeline_sans_les2col.predict(X_test)\n",
    "# Calcul des métriques de performance\n",
    "accuracy = accuracy_score(y_test, y_pred)\n",
    "\n",
    "\n",
    "print(\"Accuracy:\", accuracy)"
   ]
  },
  {
   "cell_type": "markdown",
   "id": "20ad7d19-2115-4820-8218-d9f1aa020f10",
   "metadata": {},
   "source": [
    "La précision ne change pas vraiment donc supprimer les 2 colonnes est inutile"
   ]
  },
  {
   "cell_type": "markdown",
   "id": "56a79509-b706-4f5d-9a1b-b634fb72e876",
   "metadata": {},
   "source": [
    "On réduit la taille du dataset pour que se soit plus rapide"
   ]
  },
  {
   "cell_type": "code",
   "execution_count": 15,
   "id": "17c9a4bb",
   "metadata": {},
   "outputs": [
    {
     "name": "stdout",
     "output_type": "stream",
     "text": [
      "\n",
      "Pipeline: Gradient Boosting\n",
      "Accuracy: 0.9994000199993334\n",
      "Classification Report:\n",
      "              precision    recall  f1-score   support\n",
      "\n",
      "         0.0       1.00      1.00      1.00     27412\n",
      "         1.0       1.00      0.99      1.00      2589\n",
      "\n",
      "    accuracy                           1.00     30001\n",
      "   macro avg       1.00      1.00      1.00     30001\n",
      "weighted avg       1.00      1.00      1.00     30001\n",
      "\n",
      "Confusion Matrix:\n",
      "[[27411     1]\n",
      " [   17  2572]]\n",
      "\n",
      "Pipeline: SVM\n",
      "Accuracy: 0.9954001533282224\n",
      "Classification Report:\n",
      "              precision    recall  f1-score   support\n",
      "\n",
      "         0.0       1.00      1.00      1.00     27412\n",
      "         1.0       0.99      0.96      0.97      2589\n",
      "\n",
      "    accuracy                           1.00     30001\n",
      "   macro avg       0.99      0.98      0.99     30001\n",
      "weighted avg       1.00      1.00      1.00     30001\n",
      "\n",
      "Confusion Matrix:\n",
      "[[27384    28]\n",
      " [  110  2479]]\n",
      "\n",
      "Pipeline: Random Forest\n",
      "Accuracy: 0.9998000066664444\n",
      "Classification Report:\n",
      "              precision    recall  f1-score   support\n",
      "\n",
      "         0.0       1.00      1.00      1.00     27412\n",
      "         1.0       1.00      1.00      1.00      2589\n",
      "\n",
      "    accuracy                           1.00     30001\n",
      "   macro avg       1.00      1.00      1.00     30001\n",
      "weighted avg       1.00      1.00      1.00     30001\n",
      "\n",
      "Confusion Matrix:\n",
      "[[27412     0]\n",
      " [    6  2583]]\n",
      "\n",
      "Pipeline: KNN\n",
      "Accuracy: 0.9963001233292224\n",
      "Classification Report:\n",
      "              precision    recall  f1-score   support\n",
      "\n",
      "         0.0       1.00      1.00      1.00     27412\n",
      "         1.0       0.99      0.97      0.98      2589\n",
      "\n",
      "    accuracy                           1.00     30001\n",
      "   macro avg       0.99      0.98      0.99     30001\n",
      "weighted avg       1.00      1.00      1.00     30001\n",
      "\n",
      "Confusion Matrix:\n",
      "[[27377    35]\n",
      " [   76  2513]]\n"
     ]
    }
   ],
   "source": [
    "# Séparation des caractéristiques (X) et de la cible (y)\n",
    "X = df.loc[:100000].drop('fraud', axis=1)\n",
    "y = df.loc[:100000,\"fraud\"]\n",
    "\n",
    "# Division en ensembles d'entraînement et de test\n",
    "X_train, X_test, y_train, y_test = train_test_split(X, y, test_size=0.3, random_state=42)\n",
    "\n",
    "# 1. Pipeline avec Gradient Boosting\n",
    "pipeline_gb = Pipeline([\n",
    "    ('scaler', StandardScaler()),\n",
    "    ('gb', GradientBoostingClassifier(random_state=42))\n",
    "])\n",
    "\n",
    "# 2. Pipeline avec SVM\n",
    "pipeline_svm = Pipeline([\n",
    "    ('scaler', StandardScaler()),\n",
    "    ('svm', SVC(probability=True, random_state=42))\n",
    "])\n",
    "\n",
    "# 3. Pipeline avec Random Forest\n",
    "pipeline_rf = Pipeline([\n",
    "    ('scaler', StandardScaler()),\n",
    "    ('rf', RandomForestClassifier(class_weight='balanced', random_state=42))\n",
    "])\n",
    "\n",
    "# 4. Pipeline avec K-Nearest Neighbors\n",
    "pipeline_knn = Pipeline([\n",
    "    ('scaler', StandardScaler()),\n",
    "    ('knn', KNeighborsClassifier())\n",
    "])\n",
    "\n",
    "# Dictionnaire pour stocker les pipelines\n",
    "pipelines = {\n",
    "    'Gradient Boosting': pipeline_gb,\n",
    "    'SVM': pipeline_svm,\n",
    "    'Random Forest': pipeline_rf,\n",
    "    'KNN': pipeline_knn\n",
    "}\n",
    "\n",
    "# Entraînement et évaluation des modèles\n",
    "for name, pipeline in pipelines.items():\n",
    "    # Entraîner le modèle\n",
    "    pipeline.fit(X_train, y_train)\n",
    "    \n",
    "    # Prédiction\n",
    "    y_pred = pipeline.predict(X_test)\n",
    "    \n",
    "    # Évaluation\n",
    "    print(f\"\\nPipeline: {name}\")\n",
    "    print(\"Accuracy:\", accuracy_score(y_test, y_pred))\n",
    "    print(\"Classification Report:\")\n",
    "    print(classification_report(y_test, y_pred))\n",
    "    print(\"Confusion Matrix:\")\n",
    "    print(confusion_matrix(y_test, y_pred))\n"
   ]
  },
  {
   "cell_type": "markdown",
   "id": "0f0dac6a",
   "metadata": {},
   "source": [
    "Attention c'est long"
   ]
  },
  {
   "cell_type": "markdown",
   "id": "acc46bf5",
   "metadata": {},
   "source": [
    "On va utiliser maintenant la cross validation"
   ]
  },
  {
   "cell_type": "code",
   "execution_count": 16,
   "id": "8a7d9052",
   "metadata": {},
   "outputs": [
    {
     "data": {
      "text/plain": [
       "fraud\n",
       "0.0    91291\n",
       "1.0     8710\n",
       "Name: count, dtype: int64"
      ]
     },
     "execution_count": 16,
     "metadata": {},
     "output_type": "execute_result"
    }
   ],
   "source": [
    "df.loc[:100000,\"fraud\"].value_counts()"
   ]
  },
  {
   "cell_type": "code",
   "execution_count": 17,
   "id": "ee88c898",
   "metadata": {
    "scrolled": true
   },
   "outputs": [
    {
     "name": "stdout",
     "output_type": "stream",
     "text": [
      "Scores de cross-validation de Gradient Boosting (AUC): [0.9999568  0.99983894 0.99929438 0.99999683 0.99999253]\n",
      "AUC moyenne: 0.9998158952226628\n",
      "Scores de cross-validation de SVM (AUC): [0.99971296 0.99972189 0.99966482 0.99944352 0.999474  ]\n",
      "AUC moyenne: 0.9996034351891756\n",
      "Scores de cross-validation de Random Forest (AUC): [0.99999987 0.99999962 0.99996075 1.         0.9999943 ]\n",
      "AUC moyenne: 0.9999909082770276\n",
      "Scores de cross-validation de KNN (AUC): [0.99581683 0.99577977 0.99924111 0.99804977 0.99569722]\n",
      "AUC moyenne: 0.9969169405063918\n"
     ]
    }
   ],
   "source": [
    "X = df.loc[:50000].drop('fraud', axis=1)\n",
    "y = df.loc[:50000,\"fraud\"]\n",
    "cv = StratifiedKFold(n_splits=5, shuffle=True, random_state=42)\n",
    "for name, pipeline in pipelines.items():\n",
    "# Calcul des scores de cross-validation\n",
    "    cv_scores = cross_val_score(pipeline, X, y, cv=cv, scoring='roc_auc')\n",
    "\n",
    "    print(f\"Scores de cross-validation de {name} (AUC):\", cv_scores)\n",
    "    print(\"AUC moyenne:\", cv_scores.mean())"
   ]
  },
  {
   "cell_type": "markdown",
   "id": "130b750b",
   "metadata": {},
   "source": [
    "Application de SMOTE\n"
   ]
  },
  {
   "cell_type": "code",
   "execution_count": 33,
   "id": "c2225115",
   "metadata": {},
   "outputs": [
    {
     "name": "stdout",
     "output_type": "stream",
     "text": [
      "Found existing installation: imbalanced-learn 0.10.1\n",
      "Uninstalling imbalanced-learn-0.10.1:\n",
      "  Successfully uninstalled imbalanced-learn-0.10.1\n",
      "Found existing installation: scikit-learn 1.2.2\n",
      "Uninstalling scikit-learn-1.2.2:\n",
      "  Successfully uninstalled scikit-learn-1.2.2\n",
      "Collecting scikit-learn==1.2.2\n",
      "  Obtaining dependency information for scikit-learn==1.2.2 from https://files.pythonhosted.org/packages/db/98/169b46a84b48f92df2b5e163fce75d471f4df933f8b3d925a61133210776/scikit_learn-1.2.2-cp311-cp311-win_amd64.whl.metadata\n",
      "  Using cached scikit_learn-1.2.2-cp311-cp311-win_amd64.whl.metadata (11 kB)\n",
      "Collecting imbalanced-learn==0.10.1\n",
      "  Obtaining dependency information for imbalanced-learn==0.10.1 from https://files.pythonhosted.org/packages/11/80/911e581a4fc973179e3a48c1272435aa09cce21c12af122c3886d3d35cb5/imbalanced_learn-0.10.1-py3-none-any.whl.metadata\n",
      "  Using cached imbalanced_learn-0.10.1-py3-none-any.whl.metadata (8.2 kB)\n",
      "Requirement already satisfied: numpy>=1.17.3 in c:\\users\\melha\\anaconda3\\lib\\site-packages (from scikit-learn==1.2.2) (1.24.3)\n",
      "Requirement already satisfied: scipy>=1.3.2 in c:\\users\\melha\\anaconda3\\lib\\site-packages (from scikit-learn==1.2.2) (1.11.1)\n",
      "Requirement already satisfied: joblib>=1.1.1 in c:\\users\\melha\\anaconda3\\lib\\site-packages (from scikit-learn==1.2.2) (1.2.0)\n",
      "Requirement already satisfied: threadpoolctl>=2.0.0 in c:\\users\\melha\\anaconda3\\lib\\site-packages (from scikit-learn==1.2.2) (3.5.0)\n",
      "Using cached scikit_learn-1.2.2-cp311-cp311-win_amd64.whl (8.3 MB)\n",
      "Using cached imbalanced_learn-0.10.1-py3-none-any.whl (226 kB)\n",
      "Installing collected packages: scikit-learn, imbalanced-learn\n",
      "Successfully installed imbalanced-learn-0.10.1 scikit-learn-1.2.2\n"
     ]
    }
   ],
   "source": [
    "!pip uninstall imbalanced-learn scikit-learn -y\n",
    "!pip install scikit-learn==1.2.2 imbalanced-learn==0.10.1"
   ]
  },
  {
   "cell_type": "code",
   "execution_count": 17,
   "id": "6d2cbfa2",
   "metadata": {},
   "outputs": [
    {
     "name": "stdout",
     "output_type": "stream",
     "text": [
      "              precision    recall  f1-score   support\n",
      "\n",
      "           0       1.00      0.97      0.98        30\n",
      "           1       1.00      1.00      1.00       270\n",
      "\n",
      "    accuracy                           1.00       300\n",
      "   macro avg       1.00      0.98      0.99       300\n",
      "weighted avg       1.00      1.00      1.00       300\n",
      "\n"
     ]
    }
   ],
   "source": [
    "from imblearn.over_sampling import SMOTE\n",
    "from sklearn.datasets import make_classification\n",
    "from sklearn.model_selection import train_test_split\n",
    "from sklearn.ensemble import RandomForestClassifier\n",
    "from sklearn.metrics import classification_report\n",
    "\n",
    "# Générer des données déséquilibrées\n",
    "X, y = make_classification(n_classes=2, class_sep=2,\n",
    "                           weights=[0.1, 0.9], n_informative=3, n_redundant=1, flip_y=0,\n",
    "                           n_features=20, n_clusters_per_class=1, n_samples=1000, random_state=42)\n",
    "\n",
    "# Diviser les données\n",
    "X_train, X_test, y_train, y_test = train_test_split(X, y, test_size=0.3, random_state=42, stratify=y)\n",
    "\n",
    "# Appliquer SMOTE\n",
    "smote = SMOTE(random_state=42)\n",
    "X_train_smote, y_train_smote = smote.fit_resample(X_train, y_train)\n",
    "\n",
    "# Entraîner un modèle\n",
    "model = RandomForestClassifier(class_weight='balanced', random_state=42)\n",
    "model.fit(X_train_smote, y_train_smote)\n",
    "\n",
    "# Évaluer\n",
    "y_pred = model.predict(X_test)\n",
    "print(classification_report(y_test, y_pred))\n"
   ]
  },
  {
   "cell_type": "markdown",
   "id": "b6e6c86f",
   "metadata": {},
   "source": [
    "# PCA avec SMOTE"
   ]
  },
  {
   "cell_type": "code",
   "execution_count": 24,
   "id": "0dda4a41",
   "metadata": {},
   "outputs": [
    {
     "name": "stdout",
     "output_type": "stream",
     "text": [
      "              precision    recall  f1-score   support\n",
      "\n",
      "           0       0.68      0.90      0.77        30\n",
      "           1       0.99      0.95      0.97       270\n",
      "\n",
      "    accuracy                           0.95       300\n",
      "   macro avg       0.83      0.93      0.87       300\n",
      "weighted avg       0.96      0.95      0.95       300\n",
      "\n"
     ]
    }
   ],
   "source": [
    "pipeline_smote = Pipeline([\n",
    "    ('scaler', StandardScaler()),\n",
    "    ('pca', PCA(n_components=3)),  # Ajustez le nombre de composantes selon vos besoins\n",
    "    ('random forest', RandomForestClassifier(random_state=42))\n",
    "])\n",
    "\n",
    "pipeline_smote.fit(X_train_smote, y_train_smote)\n",
    "\n",
    "y_pred = pipeline_smote.predict(X_test)\n",
    "print(classification_report(y_test, y_pred))"
   ]
  },
  {
   "cell_type": "markdown",
   "id": "1c06b0f9",
   "metadata": {},
   "source": [
    "On remarque que c'est mieux avec le SMOTE mais ce n'est toujours pas mieux que sans le PCA. C'est du qu'il y'a peu de colonne donc le PCA enlève de l'information au lieu d'enlever du bruit."
   ]
  },
  {
   "cell_type": "markdown",
   "id": "ab06f0a4",
   "metadata": {},
   "source": [
    "### **Points clés**\n",
    "1. **Classe `0`** :\n",
    "   - Rappel légèrement inférieur à **1** (97 %), indiquant que 3 % des exemples réels de cette classe n'ont pas été détectés.\n",
    "2. **Classe `1`** :\n",
    "   - Performance parfaite avec des scores de précision, rappel et F1 à **1.00**.\n",
    "\n",
    "### **Considérations supplémentaires**\n",
    "- **Déséquilibre des classes** : La classe `1` est majoritaire (270 exemples) par rapport à la classe `0` (30 exemples), ce qui peut influencer les métriques globales.\n",
    "- **Validation croisée** : Si ce rapport provient d'un jeu de données unique, utilisez une validation croisée pour confirmer la robustesse des performances.\n"
   ]
  },
  {
   "cell_type": "markdown",
   "id": "0aa382f4-548a-44d4-9ae3-44b50ffbf693",
   "metadata": {},
   "source": [
    "XGBoost avec RUS"
   ]
  },
  {
   "cell_type": "code",
   "execution_count": 22,
   "id": "8178f831-20cf-4824-9fd1-ac69767f996e",
   "metadata": {},
   "outputs": [
    {
     "name": "stderr",
     "output_type": "stream",
     "text": [
      "C:\\Users\\arist\\Anaconda\\Lib\\site-packages\\xgboost\\core.py:158: UserWarning: [20:28:47] WARNING: C:\\buildkite-agent\\builds\\buildkite-windows-cpu-autoscaling-group-i-0c55ff5f71b100e98-1\\xgboost\\xgboost-ci-windows\\src\\learner.cc:740: \n",
      "Parameters: { \"use_label_encoder\" } are not used.\n",
      "\n",
      "  warnings.warn(smsg, UserWarning)\n"
     ]
    },
    {
     "name": "stdout",
     "output_type": "stream",
     "text": [
      "Accuracy: 0.95758\n",
      "Classification Report:\n",
      "              precision    recall  f1-score   support\n",
      "\n",
      "         0.0       0.97      0.98      0.98    273779\n",
      "         1.0       0.77      0.73      0.75     26221\n",
      "\n",
      "    accuracy                           0.96    300000\n",
      "   macro avg       0.87      0.86      0.86    300000\n",
      "weighted avg       0.96      0.96      0.96    300000\n",
      "\n",
      "Confusion Matrix:\n",
      "[[268014   5765]\n",
      " [  6961  19260]]\n"
     ]
    }
   ],
   "source": [
    "X_train, X_test, y_train, y_test = train_test_split(X, y, test_size=0.3, random_state=42, stratify=y)\n",
    "\n",
    "# Sous-échantillonnage avec RUS uniquement sur les données d'entraînement\n",
    "rus = RandomUnderSampler(random_state=42)\n",
    "X_train_rus, y_train_rus = rus.fit_resample(X_train, y_train)\n",
    "\n",
    "# Pipeline avec XGBoost\n",
    "pipe_xgb = Pipeline([\n",
    "    ('scaler', StandardScaler()),\n",
    "    ('xgb', xgb.XGBClassifier(use_label_encoder=False, random_state=42))\n",
    "])\n",
    "\n",
    "# Entraînement\n",
    "pipe_xgb.fit(X_train_rus, y_train_rus)\n",
    "\n",
    "# Prédiction\n",
    "y_pred = pipe_xgb.predict(X_test)\n",
    "\n",
    "# Évaluation\n",
    "print(\"Accuracy:\", accuracy_score(y_test, y_pred))\n",
    "print(\"Classification Report:\")\n",
    "print(classification_report(y_test, y_pred))\n",
    "print(\"Confusion Matrix:\")\n",
    "print(confusion_matrix(y_test, y_pred))"
   ]
  },
  {
   "cell_type": "code",
   "execution_count": 19,
   "id": "8e1a153c-eb80-4d06-aee8-47811f805047",
   "metadata": {},
   "outputs": [
    {
     "name": "stdout",
     "output_type": "stream",
     "text": [
      "fraud\n",
      "0.0    4317\n",
      "1.0    4317\n",
      "Name: count, dtype: int64\n"
     ]
    }
   ],
   "source": [
    "# Vérifier les résultats\n",
    "y_under = pd.Series(y_under)\n",
    "print(y_under.value_counts())"
   ]
  },
  {
   "cell_type": "markdown",
   "id": "7efdcfb9-df04-42cd-8b0c-a7934d34e25e",
   "metadata": {},
   "source": [
    "XGboost avec ROS"
   ]
  },
  {
   "cell_type": "code",
   "execution_count": 8,
   "id": "5c4c828b-b16b-4a92-b0bc-c1c6b0642ae9",
   "metadata": {},
   "outputs": [
    {
     "name": "stderr",
     "output_type": "stream",
     "text": [
      "C:\\Users\\arist\\Anaconda\\Lib\\site-packages\\xgboost\\core.py:158: UserWarning: [23:28:34] WARNING: C:\\buildkite-agent\\builds\\buildkite-windows-cpu-autoscaling-group-i-0c55ff5f71b100e98-1\\xgboost\\xgboost-ci-windows\\src\\learner.cc:740: \n",
      "Parameters: { \"use_label_encoder\" } are not used.\n",
      "\n",
      "  warnings.warn(smsg, UserWarning)\n"
     ]
    },
    {
     "name": "stdout",
     "output_type": "stream",
     "text": [
      "Accuracy: 0.9999000033332223\n",
      "Classification Report:\n",
      "              precision    recall  f1-score   support\n",
      "\n",
      "         0.0       1.00      1.00      1.00     27412\n",
      "         1.0       1.00      1.00      1.00      2589\n",
      "\n",
      "    accuracy                           1.00     30001\n",
      "   macro avg       1.00      1.00      1.00     30001\n",
      "weighted avg       1.00      1.00      1.00     30001\n",
      "\n",
      "Confusion Matrix:\n",
      "[[27409     3]\n",
      " [    0  2589]]\n"
     ]
    }
   ],
   "source": [
    "from imblearn.over_sampling import RandomOverSampler\n",
    "\n",
    "# Supposons que vous avez déjà chargé vos données dans X et y\n",
    "X = df.loc[:100000].drop('fraud', axis=1)\n",
    "y = df.loc[:100000,\"fraud\"]\n",
    "\n",
    "# Appliquer le sous-échantillonnage\n",
    "ros = RandomOverSampler(random_state=42)\n",
    "X_train_over, y_train_over = ros.fit_resample(X, y)\n",
    "\n",
    "X_train, X_test, y_train, y_test = train_test_split(X, y, test_size=0.3, random_state=42)\n",
    "\n",
    "pipe_xgb=Pipeline([\n",
    "    ('scaler', StandardScaler()),\n",
    "    ('rf', xgb.XGBClassifier(use_label_encoder=False))\n",
    "])\n",
    "pipe_xgb.fit(X_train_over, y_train_over)\n",
    "    \n",
    "# Prédiction\n",
    "y_pred = pipe_xgb.predict(X_test)\n",
    "    \n",
    "# Évaluation\n",
    "\n",
    "print(\"Accuracy:\", accuracy_score(y_test, y_pred))\n",
    "print(\"Classification Report:\")\n",
    "print(classification_report(y_test, y_pred))\n",
    "print(\"Confusion Matrix:\")\n",
    "print(confusion_matrix(y_test, y_pred))"
   ]
  },
  {
   "cell_type": "markdown",
   "id": "ead0ce78-e243-40f3-a613-4cb182c81dd0",
   "metadata": {},
   "source": [
    "RandomForest avec ROS"
   ]
  },
  {
   "cell_type": "code",
   "execution_count": 31,
   "id": "0223639a-8344-43b0-94a1-757ad4a31af7",
   "metadata": {},
   "outputs": [
    {
     "name": "stdout",
     "output_type": "stream",
     "text": [
      "Accuracy: 1.0\n",
      "Classification Report:\n",
      "              precision    recall  f1-score   support\n",
      "\n",
      "         0.0       1.00      1.00      1.00     13727\n",
      "         1.0       1.00      1.00      1.00      1274\n",
      "\n",
      "    accuracy                           1.00     15001\n",
      "   macro avg       1.00      1.00      1.00     15001\n",
      "weighted avg       1.00      1.00      1.00     15001\n",
      "\n",
      "Confusion Matrix:\n",
      "[[13727     0]\n",
      " [    0  1274]]\n"
     ]
    }
   ],
   "source": [
    "X_train, X_test, y_train, y_test = train_test_split(X, y, test_size=0.3, random_state=42)\n",
    "# Appliquer le sous-échantillonnage\n",
    "ros = RandomOverSampler(random_state=42)\n",
    "X_train_over, y_train_over = ros.fit_resample(X, y)\n",
    "pipe_rf=Pipeline([\n",
    "    ('scaler', StandardScaler()),\n",
    "    ('rf', RandomForestClassifier(class_weight='balanced', random_state=42))\n",
    "])\n",
    "pipe_rf.fit(X_train_over, y_train_over)\n",
    "    \n",
    "# Prédiction\n",
    "y_pred = pipe_rf.predict(X_test)\n",
    "    \n",
    "# Évaluation\n",
    "\n",
    "print(\"Accuracy:\", accuracy_score(y_test, y_pred))\n",
    "print(\"Classification Report:\")\n",
    "print(classification_report(y_test, y_pred))\n",
    "print(\"Confusion Matrix:\")\n",
    "print(confusion_matrix(y_test, y_pred))"
   ]
  },
  {
   "cell_type": "markdown",
   "id": "a991e282-4ef0-4ebd-9ed5-3ff9318954b8",
   "metadata": {},
   "source": [
    "Random Forest avec SMOTE"
   ]
  },
  {
   "cell_type": "code",
   "execution_count": 38,
   "id": "e275c0e3-06d3-4aa2-91da-9d1e333be467",
   "metadata": {},
   "outputs": [
    {
     "name": "stdout",
     "output_type": "stream",
     "text": [
      "Accuracy: 1.0\n",
      "Classification Report:\n",
      "              precision    recall  f1-score   support\n",
      "\n",
      "         0.0       1.00      1.00      1.00     13727\n",
      "         1.0       1.00      1.00      1.00      1274\n",
      "\n",
      "    accuracy                           1.00     15001\n",
      "   macro avg       1.00      1.00      1.00     15001\n",
      "weighted avg       1.00      1.00      1.00     15001\n",
      "\n",
      "Confusion Matrix:\n",
      "[[13727     0]\n",
      " [    0  1274]]\n"
     ]
    }
   ],
   "source": [
    "X_train, X_test, y_train, y_test = train_test_split(X, y, test_size=0.3, random_state=42)\n",
    "# Appliquer le sous-échantillonnage\n",
    "smote = SMOTE()\n",
    "X_train_smote, y_train_smote = smote.fit_resample(X, y)\n",
    "pipe_rf_smote=Pipeline([\n",
    "    ('scaler', StandardScaler()),\n",
    "    ('rf', RandomForestClassifier(class_weight='balanced', random_state=42))\n",
    "])\n",
    "pipe_rf_smote.fit(X_train_smote, y_train_smote)\n",
    "    \n",
    "# Prédiction\n",
    "y_pred = pipe_rf_smote.predict(X_test)\n",
    "    \n",
    "# Évaluation\n",
    "\n",
    "print(\"Accuracy:\", accuracy_score(y_test, y_pred))\n",
    "print(\"Classification Report:\")\n",
    "print(classification_report(y_test, y_pred))\n",
    "print(\"Confusion Matrix:\")\n",
    "print(confusion_matrix(y_test, y_pred))"
   ]
  },
  {
   "cell_type": "markdown",
   "id": "a1366be2-4573-4e27-be7e-ea85a5dc6958",
   "metadata": {},
   "source": [
    "On cherche les hypers paramètres"
   ]
  },
  {
   "cell_type": "code",
   "execution_count": 12,
   "id": "97c08b30-301d-4a81-acf9-af0d1aaec22b",
   "metadata": {},
   "outputs": [
    {
     "data": {
      "text/plain": [
       "fraud\n",
       "0.0    45684\n",
       "1.0    45684\n",
       "Name: count, dtype: int64"
      ]
     },
     "execution_count": 12,
     "metadata": {},
     "output_type": "execute_result"
    }
   ],
   "source": [
    "y_train_smote.value_counts()"
   ]
  },
  {
   "cell_type": "markdown",
   "id": "ad6d76f9-0044-438d-a33d-129522963b5d",
   "metadata": {},
   "source": [
    "Optimization des hyperparamètres"
   ]
  },
  {
   "cell_type": "code",
   "execution_count": 15,
   "id": "b7b230c9-b1f3-4c33-85c3-f48a95217d29",
   "metadata": {},
   "outputs": [
    {
     "name": "stderr",
     "output_type": "stream",
     "text": [
      "[I 2024-12-11 23:37:27,384] A new study created in memory with name: no-name-ebe268c7-bd72-4561-acb9-ed1274e1ce14\n",
      "C:\\Users\\arist\\Anaconda\\Lib\\site-packages\\xgboost\\core.py:158: UserWarning: [23:37:27] WARNING: C:\\buildkite-agent\\builds\\buildkite-windows-cpu-autoscaling-group-i-0c55ff5f71b100e98-1\\xgboost\\xgboost-ci-windows\\src\\learner.cc:740: \n",
      "Parameters: { \"use_label_encoder\" } are not used.\n",
      "\n",
      "  warnings.warn(smsg, UserWarning)\n",
      "[I 2024-12-11 23:37:27,802] Trial 0 finished with value: 0.9986000933271115 and parameters: {'n_estimators': 242, 'max_depth': 9, 'learning_rate': 0.23208497734388625, 'subsample': 0.8161231514634311, 'colsample_bytree': 0.7953921343561213, 'gamma': 2.763992199356225, 'lambda': 2.5708571061241727, 'alpha': 8.978166097833851}. Best is trial 0 with value: 0.9986000933271115.\n",
      "C:\\Users\\arist\\Anaconda\\Lib\\site-packages\\xgboost\\core.py:158: UserWarning: [23:37:27] WARNING: C:\\buildkite-agent\\builds\\buildkite-windows-cpu-autoscaling-group-i-0c55ff5f71b100e98-1\\xgboost\\xgboost-ci-windows\\src\\learner.cc:740: \n",
      "Parameters: { \"use_label_encoder\" } are not used.\n",
      "\n",
      "  warnings.warn(smsg, UserWarning)\n",
      "[I 2024-12-11 23:37:28,615] Trial 1 finished with value: 0.99866675554963 and parameters: {'n_estimators': 366, 'max_depth': 10, 'learning_rate': 0.21722606004582892, 'subsample': 0.5171641517277631, 'colsample_bytree': 0.8060364136749087, 'gamma': 1.3085587097145361, 'lambda': 7.618179852025938, 'alpha': 7.688459669082878}. Best is trial 1 with value: 0.99866675554963.\n",
      "C:\\Users\\arist\\Anaconda\\Lib\\site-packages\\xgboost\\core.py:158: UserWarning: [23:37:28] WARNING: C:\\buildkite-agent\\builds\\buildkite-windows-cpu-autoscaling-group-i-0c55ff5f71b100e98-1\\xgboost\\xgboost-ci-windows\\src\\learner.cc:740: \n",
      "Parameters: { \"use_label_encoder\" } are not used.\n",
      "\n",
      "  warnings.warn(smsg, UserWarning)\n",
      "[I 2024-12-11 23:37:29,002] Trial 2 finished with value: 0.9991333911072595 and parameters: {'n_estimators': 221, 'max_depth': 9, 'learning_rate': 0.28845023915834944, 'subsample': 0.8950521727014001, 'colsample_bytree': 0.8403770471083142, 'gamma': 2.9180885705285142, 'lambda': 8.064605788170992, 'alpha': 1.208097798739931}. Best is trial 2 with value: 0.9991333911072595.\n",
      "C:\\Users\\arist\\Anaconda\\Lib\\site-packages\\xgboost\\core.py:158: UserWarning: [23:37:29] WARNING: C:\\buildkite-agent\\builds\\buildkite-windows-cpu-autoscaling-group-i-0c55ff5f71b100e98-1\\xgboost\\xgboost-ci-windows\\src\\learner.cc:740: \n",
      "Parameters: { \"use_label_encoder\" } are not used.\n",
      "\n",
      "  warnings.warn(smsg, UserWarning)\n",
      "[I 2024-12-11 23:37:29,933] Trial 3 finished with value: 0.9986000933271115 and parameters: {'n_estimators': 536, 'max_depth': 3, 'learning_rate': 0.04599082392338404, 'subsample': 0.780247812108487, 'colsample_bytree': 0.9464281943790152, 'gamma': 1.9878029955567351, 'lambda': 9.491607000514957, 'alpha': 8.695525794408661}. Best is trial 2 with value: 0.9991333911072595.\n",
      "C:\\Users\\arist\\Anaconda\\Lib\\site-packages\\xgboost\\core.py:158: UserWarning: [23:37:29] WARNING: C:\\buildkite-agent\\builds\\buildkite-windows-cpu-autoscaling-group-i-0c55ff5f71b100e98-1\\xgboost\\xgboost-ci-windows\\src\\learner.cc:740: \n",
      "Parameters: { \"use_label_encoder\" } are not used.\n",
      "\n",
      "  warnings.warn(smsg, UserWarning)\n",
      "[I 2024-12-11 23:37:31,191] Trial 4 finished with value: 0.999066728884741 and parameters: {'n_estimators': 517, 'max_depth': 7, 'learning_rate': 0.07145913390387706, 'subsample': 0.910845008491824, 'colsample_bytree': 0.6581511467862593, 'gamma': 0.06509890794689333, 'lambda': 4.090184081689411, 'alpha': 2.6061291882388806}. Best is trial 2 with value: 0.9991333911072595.\n",
      "C:\\Users\\arist\\Anaconda\\Lib\\site-packages\\xgboost\\core.py:158: UserWarning: [23:37:31] WARNING: C:\\buildkite-agent\\builds\\buildkite-windows-cpu-autoscaling-group-i-0c55ff5f71b100e98-1\\xgboost\\xgboost-ci-windows\\src\\learner.cc:740: \n",
      "Parameters: { \"use_label_encoder\" } are not used.\n",
      "\n",
      "  warnings.warn(smsg, UserWarning)\n",
      "[I 2024-12-11 23:37:32,706] Trial 5 finished with value: 0.998933404439704 and parameters: {'n_estimators': 975, 'max_depth': 7, 'learning_rate': 0.1363004019542876, 'subsample': 0.828727667460181, 'colsample_bytree': 0.6229189947849901, 'gamma': 0.17433138576233354, 'lambda': 0.36503592116536976, 'alpha': 9.229976210749344}. Best is trial 2 with value: 0.9991333911072595.\n",
      "C:\\Users\\arist\\Anaconda\\Lib\\site-packages\\xgboost\\core.py:158: UserWarning: [23:37:32] WARNING: C:\\buildkite-agent\\builds\\buildkite-windows-cpu-autoscaling-group-i-0c55ff5f71b100e98-1\\xgboost\\xgboost-ci-windows\\src\\learner.cc:740: \n",
      "Parameters: { \"use_label_encoder\" } are not used.\n",
      "\n",
      "  warnings.warn(smsg, UserWarning)\n",
      "[I 2024-12-11 23:37:33,913] Trial 6 finished with value: 0.998800079994667 and parameters: {'n_estimators': 775, 'max_depth': 6, 'learning_rate': 0.07428300769023412, 'subsample': 0.792913015839811, 'colsample_bytree': 0.8390601479796149, 'gamma': 3.9999747696808785, 'lambda': 9.580613989096442, 'alpha': 4.8469609394337745}. Best is trial 2 with value: 0.9991333911072595.\n",
      "C:\\Users\\arist\\Anaconda\\Lib\\site-packages\\xgboost\\core.py:158: UserWarning: [23:37:33] WARNING: C:\\buildkite-agent\\builds\\buildkite-windows-cpu-autoscaling-group-i-0c55ff5f71b100e98-1\\xgboost\\xgboost-ci-windows\\src\\learner.cc:740: \n",
      "Parameters: { \"use_label_encoder\" } are not used.\n",
      "\n",
      "  warnings.warn(smsg, UserWarning)\n",
      "[I 2024-12-11 23:37:35,268] Trial 7 finished with value: 0.999066728884741 and parameters: {'n_estimators': 933, 'max_depth': 9, 'learning_rate': 0.07596594411735993, 'subsample': 0.9634602148374882, 'colsample_bytree': 0.9433280609521353, 'gamma': 4.169623570847344, 'lambda': 9.677290019253325, 'alpha': 1.9279253598689505}. Best is trial 2 with value: 0.9991333911072595.\n",
      "C:\\Users\\arist\\Anaconda\\Lib\\site-packages\\xgboost\\core.py:158: UserWarning: [23:37:35] WARNING: C:\\buildkite-agent\\builds\\buildkite-windows-cpu-autoscaling-group-i-0c55ff5f71b100e98-1\\xgboost\\xgboost-ci-windows\\src\\learner.cc:740: \n",
      "Parameters: { \"use_label_encoder\" } are not used.\n",
      "\n",
      "  warnings.warn(smsg, UserWarning)\n",
      "[I 2024-12-11 23:37:35,515] Trial 8 finished with value: 0.999066728884741 and parameters: {'n_estimators': 149, 'max_depth': 7, 'learning_rate': 0.19063784479697454, 'subsample': 0.8797222748607896, 'colsample_bytree': 0.9019528875786904, 'gamma': 4.710783367162655, 'lambda': 2.8314296833577703, 'alpha': 1.6784061329265176}. Best is trial 2 with value: 0.9991333911072595.\n",
      "C:\\Users\\arist\\Anaconda\\Lib\\site-packages\\xgboost\\core.py:158: UserWarning: [23:37:35] WARNING: C:\\buildkite-agent\\builds\\buildkite-windows-cpu-autoscaling-group-i-0c55ff5f71b100e98-1\\xgboost\\xgboost-ci-windows\\src\\learner.cc:740: \n",
      "Parameters: { \"use_label_encoder\" } are not used.\n",
      "\n",
      "  warnings.warn(smsg, UserWarning)\n",
      "[I 2024-12-11 23:37:35,935] Trial 9 finished with value: 0.999200053329778 and parameters: {'n_estimators': 268, 'max_depth': 7, 'learning_rate': 0.14519786941209992, 'subsample': 0.9408768323031867, 'colsample_bytree': 0.8025103118230306, 'gamma': 2.893580117418134, 'lambda': 5.008704902758424, 'alpha': 1.809370323847772}. Best is trial 9 with value: 0.999200053329778.\n",
      "C:\\Users\\arist\\Anaconda\\Lib\\site-packages\\xgboost\\core.py:158: UserWarning: [23:37:36] WARNING: C:\\buildkite-agent\\builds\\buildkite-windows-cpu-autoscaling-group-i-0c55ff5f71b100e98-1\\xgboost\\xgboost-ci-windows\\src\\learner.cc:740: \n",
      "Parameters: { \"use_label_encoder\" } are not used.\n",
      "\n",
      "  warnings.warn(smsg, UserWarning)\n",
      "[I 2024-12-11 23:37:36,735] Trial 10 finished with value: 0.99866675554963 and parameters: {'n_estimators': 419, 'max_depth': 4, 'learning_rate': 0.12965025712491213, 'subsample': 0.6017195958497101, 'colsample_bytree': 0.7171763494976185, 'gamma': 3.2638080255047264, 'lambda': 5.8449911605541915, 'alpha': 4.448866834832622}. Best is trial 9 with value: 0.999200053329778.\n",
      "C:\\Users\\arist\\Anaconda\\Lib\\site-packages\\xgboost\\core.py:158: UserWarning: [23:37:36] WARNING: C:\\buildkite-agent\\builds\\buildkite-windows-cpu-autoscaling-group-i-0c55ff5f71b100e98-1\\xgboost\\xgboost-ci-windows\\src\\learner.cc:740: \n",
      "Parameters: { \"use_label_encoder\" } are not used.\n",
      "\n",
      "  warnings.warn(smsg, UserWarning)\n",
      "[I 2024-12-11 23:37:37,037] Trial 11 finished with value: 0.9991333911072595 and parameters: {'n_estimators': 110, 'max_depth': 9, 'learning_rate': 0.2921227734241363, 'subsample': 0.9867481335351899, 'colsample_bytree': 0.7230022190932279, 'gamma': 2.121843839808859, 'lambda': 6.624085847989701, 'alpha': 0.012263515484093546}. Best is trial 9 with value: 0.999200053329778.\n",
      "C:\\Users\\arist\\Anaconda\\Lib\\site-packages\\xgboost\\core.py:158: UserWarning: [23:37:37] WARNING: C:\\buildkite-agent\\builds\\buildkite-windows-cpu-autoscaling-group-i-0c55ff5f71b100e98-1\\xgboost\\xgboost-ci-windows\\src\\learner.cc:740: \n",
      "Parameters: { \"use_label_encoder\" } are not used.\n",
      "\n",
      "  warnings.warn(smsg, UserWarning)\n",
      "[I 2024-12-11 23:37:37,660] Trial 12 finished with value: 0.999066728884741 and parameters: {'n_estimators': 301, 'max_depth': 5, 'learning_rate': 0.29166376349901524, 'subsample': 0.7016675052066095, 'colsample_bytree': 0.5029737312883936, 'gamma': 3.233011379198837, 'lambda': 7.807111996158187, 'alpha': 0.34631128733225913}. Best is trial 9 with value: 0.999200053329778.\n",
      "C:\\Users\\arist\\Anaconda\\Lib\\site-packages\\xgboost\\core.py:158: UserWarning: [23:37:37] WARNING: C:\\buildkite-agent\\builds\\buildkite-windows-cpu-autoscaling-group-i-0c55ff5f71b100e98-1\\xgboost\\xgboost-ci-windows\\src\\learner.cc:740: \n",
      "Parameters: { \"use_label_encoder\" } are not used.\n",
      "\n",
      "  warnings.warn(smsg, UserWarning)\n",
      "[I 2024-12-11 23:37:38,668] Trial 13 finished with value: 0.999200053329778 and parameters: {'n_estimators': 702, 'max_depth': 8, 'learning_rate': 0.16193622632947316, 'subsample': 0.9167989836040968, 'colsample_bytree': 0.8421296812572359, 'gamma': 1.1187411254751243, 'lambda': 4.38743491537072, 'alpha': 3.4127032720306585}. Best is trial 9 with value: 0.999200053329778.\n",
      "C:\\Users\\arist\\Anaconda\\Lib\\site-packages\\xgboost\\core.py:158: UserWarning: [23:37:38] WARNING: C:\\buildkite-agent\\builds\\buildkite-windows-cpu-autoscaling-group-i-0c55ff5f71b100e98-1\\xgboost\\xgboost-ci-windows\\src\\learner.cc:740: \n",
      "Parameters: { \"use_label_encoder\" } are not used.\n",
      "\n",
      "  warnings.warn(smsg, UserWarning)\n",
      "[I 2024-12-11 23:37:39,746] Trial 14 finished with value: 0.999200053329778 and parameters: {'n_estimators': 691, 'max_depth': 8, 'learning_rate': 0.1684817783496611, 'subsample': 0.6988677214127706, 'colsample_bytree': 0.996359707118069, 'gamma': 1.1220096535781967, 'lambda': 4.405100368453286, 'alpha': 3.4251083110391236}. Best is trial 9 with value: 0.999200053329778.\n",
      "C:\\Users\\arist\\Anaconda\\Lib\\site-packages\\xgboost\\core.py:158: UserWarning: [23:37:39] WARNING: C:\\buildkite-agent\\builds\\buildkite-windows-cpu-autoscaling-group-i-0c55ff5f71b100e98-1\\xgboost\\xgboost-ci-windows\\src\\learner.cc:740: \n",
      "Parameters: { \"use_label_encoder\" } are not used.\n",
      "\n",
      "  warnings.warn(smsg, UserWarning)\n",
      "[I 2024-12-11 23:37:40,937] Trial 15 finished with value: 0.9988667422171855 and parameters: {'n_estimators': 773, 'max_depth': 6, 'learning_rate': 0.11258823900538378, 'subsample': 0.9466331057825033, 'colsample_bytree': 0.8784527479791235, 'gamma': 1.2046099149789673, 'lambda': 2.4740318053608803, 'alpha': 6.930121255532459}. Best is trial 9 with value: 0.999200053329778.\n",
      "C:\\Users\\arist\\Anaconda\\Lib\\site-packages\\xgboost\\core.py:158: UserWarning: [23:37:41] WARNING: C:\\buildkite-agent\\builds\\buildkite-windows-cpu-autoscaling-group-i-0c55ff5f71b100e98-1\\xgboost\\xgboost-ci-windows\\src\\learner.cc:740: \n",
      "Parameters: { \"use_label_encoder\" } are not used.\n",
      "\n",
      "  warnings.warn(smsg, UserWarning)\n",
      "[I 2024-12-11 23:37:41,965] Trial 16 finished with value: 0.998800079994667 and parameters: {'n_estimators': 664, 'max_depth': 8, 'learning_rate': 0.1804860355610617, 'subsample': 0.994782818190124, 'colsample_bytree': 0.7685196195362007, 'gamma': 2.1520085260540833, 'lambda': 5.471606308131805, 'alpha': 5.938350311067332}. Best is trial 9 with value: 0.999200053329778.\n",
      "C:\\Users\\arist\\Anaconda\\Lib\\site-packages\\xgboost\\core.py:158: UserWarning: [23:37:42] WARNING: C:\\buildkite-agent\\builds\\buildkite-windows-cpu-autoscaling-group-i-0c55ff5f71b100e98-1\\xgboost\\xgboost-ci-windows\\src\\learner.cc:740: \n",
      "Parameters: { \"use_label_encoder\" } are not used.\n",
      "\n",
      "  warnings.warn(smsg, UserWarning)\n",
      "[I 2024-12-11 23:37:42,656] Trial 17 finished with value: 0.999200053329778 and parameters: {'n_estimators': 437, 'max_depth': 5, 'learning_rate': 0.2422382905016512, 'subsample': 0.8734319561256355, 'colsample_bytree': 0.6573259608041095, 'gamma': 0.7264567095709675, 'lambda': 3.7732608447689797, 'alpha': 3.2820021005749163}. Best is trial 9 with value: 0.999200053329778.\n",
      "C:\\Users\\arist\\Anaconda\\Lib\\site-packages\\xgboost\\core.py:158: UserWarning: [23:37:42] WARNING: C:\\buildkite-agent\\builds\\buildkite-windows-cpu-autoscaling-group-i-0c55ff5f71b100e98-1\\xgboost\\xgboost-ci-windows\\src\\learner.cc:740: \n",
      "Parameters: { \"use_label_encoder\" } are not used.\n",
      "\n",
      "  warnings.warn(smsg, UserWarning)\n",
      "[I 2024-12-11 23:37:44,153] Trial 18 finished with value: 0.9982001199920005 and parameters: {'n_estimators': 642, 'max_depth': 8, 'learning_rate': 0.01091624604474109, 'subsample': 0.7160079805962729, 'colsample_bytree': 0.5619142406460118, 'gamma': 1.6240759689583228, 'lambda': 6.055320318624126, 'alpha': 3.8683470983869594}. Best is trial 9 with value: 0.999200053329778.\n",
      "C:\\Users\\arist\\Anaconda\\Lib\\site-packages\\xgboost\\core.py:158: UserWarning: [23:37:44] WARNING: C:\\buildkite-agent\\builds\\buildkite-windows-cpu-autoscaling-group-i-0c55ff5f71b100e98-1\\xgboost\\xgboost-ci-windows\\src\\learner.cc:740: \n",
      "Parameters: { \"use_label_encoder\" } are not used.\n",
      "\n",
      "  warnings.warn(smsg, UserWarning)\n",
      "[I 2024-12-11 23:37:45,552] Trial 19 finished with value: 0.9988667422171855 and parameters: {'n_estimators': 859, 'max_depth': 10, 'learning_rate': 0.11065141686830257, 'subsample': 0.9335946032819646, 'colsample_bytree': 0.8723849519795478, 'gamma': 3.6782723503887578, 'lambda': 0.8323790656963235, 'alpha': 5.82384122790598}. Best is trial 9 with value: 0.999200053329778.\n",
      "C:\\Users\\arist\\Anaconda\\Lib\\site-packages\\xgboost\\core.py:158: UserWarning: [23:37:45] WARNING: C:\\buildkite-agent\\builds\\buildkite-windows-cpu-autoscaling-group-i-0c55ff5f71b100e98-1\\xgboost\\xgboost-ci-windows\\src\\learner.cc:740: \n",
      "Parameters: { \"use_label_encoder\" } are not used.\n",
      "\n",
      "  warnings.warn(smsg, UserWarning)\n",
      "[I 2024-12-11 23:37:46,439] Trial 20 finished with value: 0.999200053329778 and parameters: {'n_estimators': 610, 'max_depth': 5, 'learning_rate': 0.1513573499273135, 'subsample': 0.8477732768913067, 'colsample_bytree': 0.7643888634859644, 'gamma': 2.461707569587679, 'lambda': 1.516997735096377, 'alpha': 2.591324106195481}. Best is trial 9 with value: 0.999200053329778.\n",
      "C:\\Users\\arist\\Anaconda\\Lib\\site-packages\\xgboost\\core.py:158: UserWarning: [23:37:46] WARNING: C:\\buildkite-agent\\builds\\buildkite-windows-cpu-autoscaling-group-i-0c55ff5f71b100e98-1\\xgboost\\xgboost-ci-windows\\src\\learner.cc:740: \n",
      "Parameters: { \"use_label_encoder\" } are not used.\n",
      "\n",
      "  warnings.warn(smsg, UserWarning)\n",
      "[I 2024-12-11 23:37:47,628] Trial 21 finished with value: 0.999200053329778 and parameters: {'n_estimators': 726, 'max_depth': 8, 'learning_rate': 0.17692860413930106, 'subsample': 0.6228792194604849, 'colsample_bytree': 0.9637915229092131, 'gamma': 0.6918549995675973, 'lambda': 4.760061715200699, 'alpha': 3.37592583840324}. Best is trial 9 with value: 0.999200053329778.\n",
      "C:\\Users\\arist\\Anaconda\\Lib\\site-packages\\xgboost\\core.py:158: UserWarning: [23:37:47] WARNING: C:\\buildkite-agent\\builds\\buildkite-windows-cpu-autoscaling-group-i-0c55ff5f71b100e98-1\\xgboost\\xgboost-ci-windows\\src\\learner.cc:740: \n",
      "Parameters: { \"use_label_encoder\" } are not used.\n",
      "\n",
      "  warnings.warn(smsg, UserWarning)\n",
      "[I 2024-12-11 23:37:48,859] Trial 22 finished with value: 0.9991333911072595 and parameters: {'n_estimators': 832, 'max_depth': 8, 'learning_rate': 0.20604520711420723, 'subsample': 0.6704109686237146, 'colsample_bytree': 0.9970723390874138, 'gamma': 0.7572287271893092, 'lambda': 4.459804896235594, 'alpha': 1.078277984354934}. Best is trial 9 with value: 0.999200053329778.\n",
      "C:\\Users\\arist\\Anaconda\\Lib\\site-packages\\xgboost\\core.py:158: UserWarning: [23:37:48] WARNING: C:\\buildkite-agent\\builds\\buildkite-windows-cpu-autoscaling-group-i-0c55ff5f71b100e98-1\\xgboost\\xgboost-ci-windows\\src\\learner.cc:740: \n",
      "Parameters: { \"use_label_encoder\" } are not used.\n",
      "\n",
      "  warnings.warn(smsg, UserWarning)\n",
      "[I 2024-12-11 23:37:50,008] Trial 23 finished with value: 0.999200053329778 and parameters: {'n_estimators': 583, 'max_depth': 7, 'learning_rate': 0.16368485971195468, 'subsample': 0.7407500432348446, 'colsample_bytree': 0.9182072494118502, 'gamma': 1.5182929554065892, 'lambda': 3.293394890326753, 'alpha': 2.4408757253812596}. Best is trial 9 with value: 0.999200053329778.\n",
      "C:\\Users\\arist\\Anaconda\\Lib\\site-packages\\xgboost\\core.py:158: UserWarning: [23:37:50] WARNING: C:\\buildkite-agent\\builds\\buildkite-windows-cpu-autoscaling-group-i-0c55ff5f71b100e98-1\\xgboost\\xgboost-ci-windows\\src\\learner.cc:740: \n",
      "Parameters: { \"use_label_encoder\" } are not used.\n",
      "\n",
      "  warnings.warn(smsg, UserWarning)\n",
      "[I 2024-12-11 23:37:51,119] Trial 24 finished with value: 0.998933404439704 and parameters: {'n_estimators': 713, 'max_depth': 6, 'learning_rate': 0.11314160234956366, 'subsample': 0.6472715959646166, 'colsample_bytree': 0.8459968024666754, 'gamma': 1.0227572244040217, 'lambda': 4.991059099417226, 'alpha': 4.143405736675463}. Best is trial 9 with value: 0.999200053329778.\n",
      "C:\\Users\\arist\\Anaconda\\Lib\\site-packages\\xgboost\\core.py:158: UserWarning: [23:37:51] WARNING: C:\\buildkite-agent\\builds\\buildkite-windows-cpu-autoscaling-group-i-0c55ff5f71b100e98-1\\xgboost\\xgboost-ci-windows\\src\\learner.cc:740: \n",
      "Parameters: { \"use_label_encoder\" } are not used.\n",
      "\n",
      "  warnings.warn(smsg, UserWarning)\n",
      "[I 2024-12-11 23:37:51,948] Trial 25 finished with value: 0.99866675554963 and parameters: {'n_estimators': 445, 'max_depth': 8, 'learning_rate': 0.15021571813725196, 'subsample': 0.5590782505220873, 'colsample_bytree': 0.7226567795813601, 'gamma': 1.8600662637567127, 'lambda': 6.485269409673181, 'alpha': 5.274031696013564}. Best is trial 9 with value: 0.999200053329778.\n",
      "C:\\Users\\arist\\Anaconda\\Lib\\site-packages\\xgboost\\core.py:158: UserWarning: [23:37:52] WARNING: C:\\buildkite-agent\\builds\\buildkite-windows-cpu-autoscaling-group-i-0c55ff5f71b100e98-1\\xgboost\\xgboost-ci-windows\\src\\learner.cc:740: \n",
      "Parameters: { \"use_label_encoder\" } are not used.\n",
      "\n",
      "  warnings.warn(smsg, UserWarning)\n",
      "[I 2024-12-11 23:37:52,670] Trial 26 finished with value: 0.9991333911072595 and parameters: {'n_estimators': 502, 'max_depth': 7, 'learning_rate': 0.260050193439005, 'subsample': 0.7631110161498376, 'colsample_bytree': 0.8052134037723673, 'gamma': 2.4376364216129076, 'lambda': 1.571971870964818, 'alpha': 3.3191394899896007}. Best is trial 9 with value: 0.999200053329778.\n",
      "C:\\Users\\arist\\Anaconda\\Lib\\site-packages\\xgboost\\core.py:158: UserWarning: [23:37:52] WARNING: C:\\buildkite-agent\\builds\\buildkite-windows-cpu-autoscaling-group-i-0c55ff5f71b100e98-1\\xgboost\\xgboost-ci-windows\\src\\learner.cc:740: \n",
      "Parameters: { \"use_label_encoder\" } are not used.\n",
      "\n",
      "  warnings.warn(smsg, UserWarning)\n",
      "[I 2024-12-11 23:37:54,157] Trial 27 finished with value: 0.999200053329778 and parameters: {'n_estimators': 884, 'max_depth': 9, 'learning_rate': 0.19634685801822893, 'subsample': 0.8541953265196158, 'colsample_bytree': 0.9854476868471312, 'gamma': 0.41684133344197694, 'lambda': 5.246223283952183, 'alpha': 1.8782608091076922}. Best is trial 9 with value: 0.999200053329778.\n",
      "C:\\Users\\arist\\Anaconda\\Lib\\site-packages\\xgboost\\core.py:158: UserWarning: [23:37:54] WARNING: C:\\buildkite-agent\\builds\\buildkite-windows-cpu-autoscaling-group-i-0c55ff5f71b100e98-1\\xgboost\\xgboost-ci-windows\\src\\learner.cc:740: \n",
      "Parameters: { \"use_label_encoder\" } are not used.\n",
      "\n",
      "  warnings.warn(smsg, UserWarning)\n",
      "[I 2024-12-11 23:37:55,142] Trial 28 finished with value: 0.9992667155522965 and parameters: {'n_estimators': 690, 'max_depth': 8, 'learning_rate': 0.16722183699187965, 'subsample': 0.9218414526279944, 'colsample_bytree': 0.9067995601565465, 'gamma': 1.7618666582363018, 'lambda': 3.551455046935016, 'alpha': 0.7715275621441853}. Best is trial 28 with value: 0.9992667155522965.\n",
      "C:\\Users\\arist\\Anaconda\\Lib\\site-packages\\xgboost\\core.py:158: UserWarning: [23:37:55] WARNING: C:\\buildkite-agent\\builds\\buildkite-windows-cpu-autoscaling-group-i-0c55ff5f71b100e98-1\\xgboost\\xgboost-ci-windows\\src\\learner.cc:740: \n",
      "Parameters: { \"use_label_encoder\" } are not used.\n",
      "\n",
      "  warnings.warn(smsg, UserWarning)\n",
      "[I 2024-12-11 23:37:55,595] Trial 29 finished with value: 0.9992667155522965 and parameters: {'n_estimators': 232, 'max_depth': 10, 'learning_rate': 0.22821002609351376, 'subsample': 0.92174376079518, 'colsample_bytree': 0.9024339334857725, 'gamma': 2.8505741380182683, 'lambda': 2.3931323373169313, 'alpha': 0.953808322996025}. Best is trial 28 with value: 0.9992667155522965.\n",
      "C:\\Users\\arist\\Anaconda\\Lib\\site-packages\\xgboost\\core.py:158: UserWarning: [23:37:55] WARNING: C:\\buildkite-agent\\builds\\buildkite-windows-cpu-autoscaling-group-i-0c55ff5f71b100e98-1\\xgboost\\xgboost-ci-windows\\src\\learner.cc:740: \n",
      "Parameters: { \"use_label_encoder\" } are not used.\n",
      "\n",
      "  warnings.warn(smsg, UserWarning)\n",
      "[I 2024-12-11 23:37:56,067] Trial 30 finished with value: 0.999200053329778 and parameters: {'n_estimators': 249, 'max_depth': 10, 'learning_rate': 0.22917726428578133, 'subsample': 0.9469617009050911, 'colsample_bytree': 0.9159996491098638, 'gamma': 2.8978312256722862, 'lambda': 1.9413007413906795, 'alpha': 0.7499902812431298}. Best is trial 28 with value: 0.9992667155522965.\n",
      "C:\\Users\\arist\\Anaconda\\Lib\\site-packages\\xgboost\\core.py:158: UserWarning: [23:37:56] WARNING: C:\\buildkite-agent\\builds\\buildkite-windows-cpu-autoscaling-group-i-0c55ff5f71b100e98-1\\xgboost\\xgboost-ci-windows\\src\\learner.cc:740: \n",
      "Parameters: { \"use_label_encoder\" } are not used.\n",
      "\n",
      "  warnings.warn(smsg, UserWarning)\n",
      "[I 2024-12-11 23:37:56,566] Trial 31 finished with value: 0.999200053329778 and parameters: {'n_estimators': 320, 'max_depth': 10, 'learning_rate': 0.261856394003107, 'subsample': 0.91876370392865, 'colsample_bytree': 0.867538444848453, 'gamma': 3.205483835541976, 'lambda': 3.298798834700538, 'alpha': 0.8016169506716204}. Best is trial 28 with value: 0.9992667155522965.\n",
      "C:\\Users\\arist\\Anaconda\\Lib\\site-packages\\xgboost\\core.py:158: UserWarning: [23:37:56] WARNING: C:\\buildkite-agent\\builds\\buildkite-windows-cpu-autoscaling-group-i-0c55ff5f71b100e98-1\\xgboost\\xgboost-ci-windows\\src\\learner.cc:740: \n",
      "Parameters: { \"use_label_encoder\" } are not used.\n",
      "\n",
      "  warnings.warn(smsg, UserWarning)\n",
      "[I 2024-12-11 23:37:56,942] Trial 32 finished with value: 0.9991333911072595 and parameters: {'n_estimators': 196, 'max_depth': 9, 'learning_rate': 0.21180813851438612, 'subsample': 0.9718733404058502, 'colsample_bytree': 0.8025567314764503, 'gamma': 2.5391270190399133, 'lambda': 3.5233112567148632, 'alpha': 1.3822241401627473}. Best is trial 28 with value: 0.9992667155522965.\n",
      "C:\\Users\\arist\\Anaconda\\Lib\\site-packages\\xgboost\\core.py:158: UserWarning: [23:37:57] WARNING: C:\\buildkite-agent\\builds\\buildkite-windows-cpu-autoscaling-group-i-0c55ff5f71b100e98-1\\xgboost\\xgboost-ci-windows\\src\\learner.cc:740: \n",
      "Parameters: { \"use_label_encoder\" } are not used.\n",
      "\n",
      "  warnings.warn(smsg, UserWarning)\n",
      "[I 2024-12-11 23:37:57,643] Trial 33 finished with value: 0.999200053329778 and parameters: {'n_estimators': 367, 'max_depth': 9, 'learning_rate': 0.13617837475415928, 'subsample': 0.8998003839871658, 'colsample_bytree': 0.8243107413911297, 'gamma': 3.521545811992074, 'lambda': 2.568375599277523, 'alpha': 2.3779566741360347}. Best is trial 28 with value: 0.9992667155522965.\n",
      "C:\\Users\\arist\\Anaconda\\Lib\\site-packages\\xgboost\\core.py:158: UserWarning: [23:37:57] WARNING: C:\\buildkite-agent\\builds\\buildkite-windows-cpu-autoscaling-group-i-0c55ff5f71b100e98-1\\xgboost\\xgboost-ci-windows\\src\\learner.cc:740: \n",
      "Parameters: { \"use_label_encoder\" } are not used.\n",
      "\n",
      "  warnings.warn(smsg, UserWarning)\n",
      "[I 2024-12-11 23:37:58,183] Trial 34 finished with value: 0.9992667155522965 and parameters: {'n_estimators': 256, 'max_depth': 10, 'learning_rate': 0.2254299826610963, 'subsample': 0.8306870620798976, 'colsample_bytree': 0.8944749790673289, 'gamma': 2.7241625891110073, 'lambda': 3.99560027219209, 'alpha': 0.08573529177598571}. Best is trial 28 with value: 0.9992667155522965.\n",
      "C:\\Users\\arist\\Anaconda\\Lib\\site-packages\\xgboost\\core.py:158: UserWarning: [23:37:58] WARNING: C:\\buildkite-agent\\builds\\buildkite-windows-cpu-autoscaling-group-i-0c55ff5f71b100e98-1\\xgboost\\xgboost-ci-windows\\src\\learner.cc:740: \n",
      "Parameters: { \"use_label_encoder\" } are not used.\n",
      "\n",
      "  warnings.warn(smsg, UserWarning)\n",
      "[I 2024-12-11 23:37:58,637] Trial 35 finished with value: 0.9992667155522965 and parameters: {'n_estimators': 255, 'max_depth': 10, 'learning_rate': 0.2448900376590079, 'subsample': 0.813097015651284, 'colsample_bytree': 0.8929500239095961, 'gamma': 2.7750747790463866, 'lambda': 2.74020418656442, 'alpha': 0.36402433994857186}. Best is trial 28 with value: 0.9992667155522965.\n",
      "C:\\Users\\arist\\Anaconda\\Lib\\site-packages\\xgboost\\core.py:158: UserWarning: [23:37:58] WARNING: C:\\buildkite-agent\\builds\\buildkite-windows-cpu-autoscaling-group-i-0c55ff5f71b100e98-1\\xgboost\\xgboost-ci-windows\\src\\learner.cc:740: \n",
      "Parameters: { \"use_label_encoder\" } are not used.\n",
      "\n",
      "  warnings.warn(smsg, UserWarning)\n",
      "[I 2024-12-11 23:37:59,011] Trial 36 finished with value: 0.9992667155522965 and parameters: {'n_estimators': 196, 'max_depth': 10, 'learning_rate': 0.25669338698074085, 'subsample': 0.8079121240516607, 'colsample_bytree': 0.9404869864860981, 'gamma': 2.5495393815236853, 'lambda': 2.017724062942179, 'alpha': 0.10487908441274596}. Best is trial 28 with value: 0.9992667155522965.\n",
      "C:\\Users\\arist\\Anaconda\\Lib\\site-packages\\xgboost\\core.py:158: UserWarning: [23:37:59] WARNING: C:\\buildkite-agent\\builds\\buildkite-windows-cpu-autoscaling-group-i-0c55ff5f71b100e98-1\\xgboost\\xgboost-ci-windows\\src\\learner.cc:740: \n",
      "Parameters: { \"use_label_encoder\" } are not used.\n",
      "\n",
      "  warnings.warn(smsg, UserWarning)\n",
      "[I 2024-12-11 23:37:59,612] Trial 37 finished with value: 0.9992667155522965 and parameters: {'n_estimators': 359, 'max_depth': 10, 'learning_rate': 0.22510967691891978, 'subsample': 0.8349006704657498, 'colsample_bytree': 0.8997514623633011, 'gamma': 1.748998912877446, 'lambda': 0.07785452708638019, 'alpha': 0.647338171769849}. Best is trial 28 with value: 0.9992667155522965.\n",
      "C:\\Users\\arist\\Anaconda\\Lib\\site-packages\\xgboost\\core.py:158: UserWarning: [23:37:59] WARNING: C:\\buildkite-agent\\builds\\buildkite-windows-cpu-autoscaling-group-i-0c55ff5f71b100e98-1\\xgboost\\xgboost-ci-windows\\src\\learner.cc:740: \n",
      "Parameters: { \"use_label_encoder\" } are not used.\n",
      "\n",
      "  warnings.warn(smsg, UserWarning)\n",
      "[I 2024-12-11 23:37:59,910] Trial 38 finished with value: 0.9992667155522965 and parameters: {'n_estimators': 104, 'max_depth': 10, 'learning_rate': 0.2730370341404051, 'subsample': 0.8063890558877592, 'colsample_bytree': 0.9675769195016681, 'gamma': 2.656423224312582, 'lambda': 0.9892529723326886, 'alpha': 1.2965717870374958}. Best is trial 28 with value: 0.9992667155522965.\n",
      "C:\\Users\\arist\\Anaconda\\Lib\\site-packages\\xgboost\\core.py:158: UserWarning: [23:37:59] WARNING: C:\\buildkite-agent\\builds\\buildkite-windows-cpu-autoscaling-group-i-0c55ff5f71b100e98-1\\xgboost\\xgboost-ci-windows\\src\\learner.cc:740: \n",
      "Parameters: { \"use_label_encoder\" } are not used.\n",
      "\n",
      "  warnings.warn(smsg, UserWarning)\n",
      "[I 2024-12-11 23:38:00,292] Trial 39 finished with value: 0.99866675554963 and parameters: {'n_estimators': 213, 'max_depth': 9, 'learning_rate': 0.23891681371215787, 'subsample': 0.8728227533875313, 'colsample_bytree': 0.8896621090473296, 'gamma': 2.151842544483477, 'lambda': 3.977991557712336, 'alpha': 8.397918719618755}. Best is trial 28 with value: 0.9992667155522965.\n",
      "C:\\Users\\arist\\Anaconda\\Lib\\site-packages\\xgboost\\core.py:158: UserWarning: [23:38:00] WARNING: C:\\buildkite-agent\\builds\\buildkite-windows-cpu-autoscaling-group-i-0c55ff5f71b100e98-1\\xgboost\\xgboost-ci-windows\\src\\learner.cc:740: \n",
      "Parameters: { \"use_label_encoder\" } are not used.\n",
      "\n",
      "  warnings.warn(smsg, UserWarning)\n",
      "[I 2024-12-11 23:38:00,596] Trial 40 finished with value: 0.999200053329778 and parameters: {'n_estimators': 146, 'max_depth': 10, 'learning_rate': 0.2460230959840941, 'subsample': 0.7887748394750127, 'colsample_bytree': 0.9220693590004756, 'gamma': 3.936593665181139, 'lambda': 3.1609975727606887, 'alpha': 0.49144916663749827}. Best is trial 28 with value: 0.9992667155522965.\n",
      "C:\\Users\\arist\\Anaconda\\Lib\\site-packages\\xgboost\\core.py:158: UserWarning: [23:38:00] WARNING: C:\\buildkite-agent\\builds\\buildkite-windows-cpu-autoscaling-group-i-0c55ff5f71b100e98-1\\xgboost\\xgboost-ci-windows\\src\\learner.cc:740: \n",
      "Parameters: { \"use_label_encoder\" } are not used.\n",
      "\n",
      "  warnings.warn(smsg, UserWarning)\n",
      "[I 2024-12-11 23:38:00,947] Trial 41 finished with value: 0.9992667155522965 and parameters: {'n_estimators': 184, 'max_depth': 10, 'learning_rate': 0.27511451036509027, 'subsample': 0.8227904934621144, 'colsample_bytree': 0.9425317190672793, 'gamma': 2.329752467027772, 'lambda': 2.212027188365478, 'alpha': 0.10253532810991062}. Best is trial 28 with value: 0.9992667155522965.\n",
      "C:\\Users\\arist\\Anaconda\\Lib\\site-packages\\xgboost\\core.py:158: UserWarning: [23:38:01] WARNING: C:\\buildkite-agent\\builds\\buildkite-windows-cpu-autoscaling-group-i-0c55ff5f71b100e98-1\\xgboost\\xgboost-ci-windows\\src\\learner.cc:740: \n",
      "Parameters: { \"use_label_encoder\" } are not used.\n",
      "\n",
      "  warnings.warn(smsg, UserWarning)\n",
      "[I 2024-12-11 23:38:01,488] Trial 42 finished with value: 0.9986000933271115 and parameters: {'n_estimators': 290, 'max_depth': 10, 'learning_rate': 0.21826739004745155, 'subsample': 0.7740215234295172, 'colsample_bytree': 0.9432557259285963, 'gamma': 2.810930042686121, 'lambda': 2.785512386624691, 'alpha': 9.714151883488123}. Best is trial 28 with value: 0.9992667155522965.\n",
      "C:\\Users\\arist\\Anaconda\\Lib\\site-packages\\xgboost\\core.py:158: UserWarning: [23:38:01] WARNING: C:\\buildkite-agent\\builds\\buildkite-windows-cpu-autoscaling-group-i-0c55ff5f71b100e98-1\\xgboost\\xgboost-ci-windows\\src\\learner.cc:740: \n",
      "Parameters: { \"use_label_encoder\" } are not used.\n",
      "\n",
      "  warnings.warn(smsg, UserWarning)\n",
      "[I 2024-12-11 23:38:02,076] Trial 43 finished with value: 0.9992667155522965 and parameters: {'n_estimators': 242, 'max_depth': 9, 'learning_rate': 0.25680003983152955, 'subsample': 0.7468059714422721, 'colsample_bytree': 0.8595810257407448, 'gamma': 3.0311854286629156, 'lambda': 1.8077988973686807, 'alpha': 0.0040577649163018314}. Best is trial 28 with value: 0.9992667155522965.\n",
      "C:\\Users\\arist\\Anaconda\\Lib\\site-packages\\xgboost\\core.py:158: UserWarning: [23:38:02] WARNING: C:\\buildkite-agent\\builds\\buildkite-windows-cpu-autoscaling-group-i-0c55ff5f71b100e98-1\\xgboost\\xgboost-ci-windows\\src\\learner.cc:740: \n",
      "Parameters: { \"use_label_encoder\" } are not used.\n",
      "\n",
      "  warnings.warn(smsg, UserWarning)\n",
      "[I 2024-12-11 23:38:02,674] Trial 44 finished with value: 0.9992667155522965 and parameters: {'n_estimators': 346, 'max_depth': 9, 'learning_rate': 0.20124102014944675, 'subsample': 0.8097365843211851, 'colsample_bytree': 0.9297583117125224, 'gamma': 3.5396180193621882, 'lambda': 1.0731558055660475, 'alpha': 0.9121091868084522}. Best is trial 28 with value: 0.9992667155522965.\n",
      "C:\\Users\\arist\\Anaconda\\Lib\\site-packages\\xgboost\\core.py:158: UserWarning: [23:38:02] WARNING: C:\\buildkite-agent\\builds\\buildkite-windows-cpu-autoscaling-group-i-0c55ff5f71b100e98-1\\xgboost\\xgboost-ci-windows\\src\\learner.cc:740: \n",
      "Parameters: { \"use_label_encoder\" } are not used.\n",
      "\n",
      "  warnings.warn(smsg, UserWarning)\n",
      "[I 2024-12-11 23:38:02,994] Trial 45 finished with value: 0.999200053329778 and parameters: {'n_estimators': 161, 'max_depth': 10, 'learning_rate': 0.2754546653600595, 'subsample': 0.8882029413942222, 'colsample_bytree': 0.9652650964757669, 'gamma': 2.6973356903279693, 'lambda': 2.7800608488125906, 'alpha': 1.3958002931424363}. Best is trial 28 with value: 0.9992667155522965.\n",
      "C:\\Users\\arist\\Anaconda\\Lib\\site-packages\\xgboost\\core.py:158: UserWarning: [23:38:03] WARNING: C:\\buildkite-agent\\builds\\buildkite-windows-cpu-autoscaling-group-i-0c55ff5f71b100e98-1\\xgboost\\xgboost-ci-windows\\src\\learner.cc:740: \n",
      "Parameters: { \"use_label_encoder\" } are not used.\n",
      "\n",
      "  warnings.warn(smsg, UserWarning)\n",
      "[I 2024-12-11 23:38:03,450] Trial 46 finished with value: 0.999200053329778 and parameters: {'n_estimators': 274, 'max_depth': 3, 'learning_rate': 0.24843882381500054, 'subsample': 0.8532338851593496, 'colsample_bytree': 0.8999151149892184, 'gamma': 2.003571713178005, 'lambda': 2.271314317093188, 'alpha': 0.44478817393885955}. Best is trial 28 with value: 0.9992667155522965.\n",
      "C:\\Users\\arist\\Anaconda\\Lib\\site-packages\\xgboost\\core.py:158: UserWarning: [23:38:03] WARNING: C:\\buildkite-agent\\builds\\buildkite-windows-cpu-autoscaling-group-i-0c55ff5f71b100e98-1\\xgboost\\xgboost-ci-windows\\src\\learner.cc:740: \n",
      "Parameters: { \"use_label_encoder\" } are not used.\n",
      "\n",
      "  warnings.warn(smsg, UserWarning)\n",
      "[I 2024-12-11 23:38:03,896] Trial 47 finished with value: 0.999200053329778 and parameters: {'n_estimators': 215, 'max_depth': 9, 'learning_rate': 0.23068607216417483, 'subsample': 0.8049331291675618, 'colsample_bytree': 0.8332893480991246, 'gamma': 1.449698087849639, 'lambda': 3.6612663715112386, 'alpha': 2.0783488289531267}. Best is trial 28 with value: 0.9992667155522965.\n",
      "C:\\Users\\arist\\Anaconda\\Lib\\site-packages\\xgboost\\core.py:158: UserWarning: [23:38:03] WARNING: C:\\buildkite-agent\\builds\\buildkite-windows-cpu-autoscaling-group-i-0c55ff5f71b100e98-1\\xgboost\\xgboost-ci-windows\\src\\learner.cc:740: \n",
      "Parameters: { \"use_label_encoder\" } are not used.\n",
      "\n",
      "  warnings.warn(smsg, UserWarning)\n",
      "[I 2024-12-11 23:38:04,568] Trial 48 finished with value: 0.999066728884741 and parameters: {'n_estimators': 396, 'max_depth': 10, 'learning_rate': 0.21718388269193267, 'subsample': 0.8644979693674628, 'colsample_bytree': 0.8855891195950999, 'gamma': 4.633923340933188, 'lambda': 8.780544411066536, 'alpha': 1.6571395694389124}. Best is trial 28 with value: 0.9992667155522965.\n",
      "C:\\Users\\arist\\Anaconda\\Lib\\site-packages\\xgboost\\core.py:158: UserWarning: [23:38:04] WARNING: C:\\buildkite-agent\\builds\\buildkite-windows-cpu-autoscaling-group-i-0c55ff5f71b100e98-1\\xgboost\\xgboost-ci-windows\\src\\learner.cc:740: \n",
      "Parameters: { \"use_label_encoder\" } are not used.\n",
      "\n",
      "  warnings.warn(smsg, UserWarning)\n",
      "[I 2024-12-11 23:38:04,865] Trial 49 finished with value: 0.999200053329778 and parameters: {'n_estimators': 136, 'max_depth': 10, 'learning_rate': 0.2804973597721647, 'subsample': 0.8325074376648397, 'colsample_bytree': 0.7815501842908751, 'gamma': 3.0584423805006633, 'lambda': 3.0325746643357814, 'alpha': 1.0604194739433996}. Best is trial 28 with value: 0.9992667155522965.\n"
     ]
    },
    {
     "name": "stdout",
     "output_type": "stream",
     "text": [
      "Best trial: {'n_estimators': 690, 'max_depth': 8, 'learning_rate': 0.16722183699187965, 'subsample': 0.9218414526279944, 'colsample_bytree': 0.9067995601565465, 'gamma': 1.7618666582363018, 'lambda': 3.551455046935016, 'alpha': 0.7715275621441853}\n"
     ]
    }
   ],
   "source": [
    "import optuna\n",
    "from xgboost import XGBClassifier\n",
    "\n",
    "def objective(trial):\n",
    "    param = {\n",
    "        'n_estimators': trial.suggest_int('n_estimators', 100, 1000),\n",
    "        'max_depth': trial.suggest_int('max_depth', 3, 10),\n",
    "        'learning_rate': trial.suggest_float('learning_rate', 0.01, 0.3),\n",
    "        'subsample': trial.suggest_float('subsample', 0.5, 1.0),\n",
    "        'colsample_bytree': trial.suggest_float('colsample_bytree', 0.5, 1.0),\n",
    "        'gamma': trial.suggest_float('gamma', 0, 5),\n",
    "        'lambda': trial.suggest_float('lambda', 0, 10),\n",
    "        'alpha': trial.suggest_float('alpha', 0, 10)\n",
    "    }\n",
    "    model = XGBClassifier(**param, use_label_encoder=False, random_state=42)\n",
    "    model.fit(X_train, y_train)\n",
    "    preds = model.predict(X_test)\n",
    "    return accuracy_score(y_test, preds)\n",
    "\n",
    "study = optuna.create_study(direction='maximize')\n",
    "study.optimize(objective, n_trials=50)\n",
    "\n",
    "print(\"Best trial:\", study.best_trial.params)\n"
   ]
  },
  {
   "cell_type": "code",
   "execution_count": 22,
   "id": "b8d71941-a6a9-4732-bfa3-fa85aa9a7b10",
   "metadata": {},
   "outputs": [],
   "source": [
    "#!pip install optuna"
   ]
  },
  {
   "cell_type": "code",
   "execution_count": 20,
   "id": "1783be06-0fa9-4dbe-97dc-cfe8fd3fb83c",
   "metadata": {},
   "outputs": [
    {
     "name": "stderr",
     "output_type": "stream",
     "text": [
      "C:\\Users\\arist\\Anaconda\\Lib\\site-packages\\xgboost\\core.py:158: UserWarning: [23:44:18] WARNING: C:\\buildkite-agent\\builds\\buildkite-windows-cpu-autoscaling-group-i-0c55ff5f71b100e98-1\\xgboost\\xgboost-ci-windows\\src\\learner.cc:740: \n",
      "Parameters: { \"use_label_encoder\" } are not used.\n",
      "\n",
      "  warnings.warn(smsg, UserWarning)\n"
     ]
    },
    {
     "name": "stdout",
     "output_type": "stream",
     "text": [
      "Accuracy: 0.9989333688877038\n",
      "Classification Report:\n",
      "              precision    recall  f1-score   support\n",
      "\n",
      "         0.0       1.00      1.00      1.00     27412\n",
      "         1.0       0.99      1.00      0.99      2589\n",
      "\n",
      "    accuracy                           1.00     30001\n",
      "   macro avg       0.99      1.00      1.00     30001\n",
      "weighted avg       1.00      1.00      1.00     30001\n",
      "\n",
      "Confusion Matrix:\n",
      "[[27380    32]\n",
      " [    0  2589]]\n"
     ]
    }
   ],
   "source": [
    "X = df.loc[:100000].drop('fraud', axis=1)\n",
    "y = df.loc[:100000, \"fraud\"]\n",
    "\n",
    "# Appliquer le sur-échantillonnage\n",
    "ros = RandomOverSampler(random_state=42)\n",
    "X_train_over, y_train_over = ros.fit_resample(X, y)\n",
    "\n",
    "# Diviser les données en ensemble d'entraînement et de test\n",
    "X_train, X_test, y_train, y_test = train_test_split(X, y, test_size=0.3, random_state=42)\n",
    "\n",
    "# Pipeline avec les hyperparamètres optimaux pour XGBoost\n",
    "pipe_xgb = Pipeline([\n",
    "    ('scaler', StandardScaler()),\n",
    "    ('xgb', xgb.XGBClassifier(\n",
    "        use_label_encoder=False,\n",
    "        n_estimators=690,\n",
    "        max_depth=8,\n",
    "        learning_rate=0.16722183699187965,\n",
    "        subsample=0.9218414526279944,\n",
    "        colsample_bytree=0.9067995601565465,\n",
    "        gamma=1.7618666582363018,\n",
    "        reg_lambda=3.551455046935016,\n",
    "        reg_alpha=0.7715275621441853,\n",
    "        random_state=42\n",
    "    ))\n",
    "])\n",
    "\n",
    "# Entraîner le modèle\n",
    "pipe_xgb.fit(X_train_over, y_train_over)\n",
    "\n",
    "# Prédiction sur les données de test\n",
    "y_pred = pipe_xgb.predict(X_test)\n",
    "\n",
    "# Évaluation du modèle\n",
    "print(\"Accuracy:\", accuracy_score(y_test, y_pred))\n",
    "print(\"Classification Report:\")\n",
    "print(classification_report(y_test, y_pred))\n",
    "print(\"Confusion Matrix:\")\n",
    "print(confusion_matrix(y_test, y_pred))"
   ]
  },
  {
   "cell_type": "markdown",
   "id": "27e34af9-2268-41bc-a279-444558c43323",
   "metadata": {},
   "source": [
    "Avec les hyperparamètres optimisées, notre accuracy diminue. Peux etre du au suréchantillonnage excessif."
   ]
  },
  {
   "cell_type": "markdown",
   "id": "b3705c06-5fad-40f6-a5ef-8d041bf81f61",
   "metadata": {},
   "source": [
    "Test du RidgeClassifier"
   ]
  },
  {
   "cell_type": "code",
   "execution_count": 21,
   "id": "114fbcef-709a-424f-a58a-d29b0d2f05e7",
   "metadata": {},
   "outputs": [
    {
     "name": "stdout",
     "output_type": "stream",
     "text": [
      "Classification Report:\n",
      "              precision    recall  f1-score   support\n",
      "\n",
      "         0.0       0.93      0.99      0.96     27412\n",
      "         1.0       0.72      0.16      0.26      2589\n",
      "\n",
      "    accuracy                           0.92     30001\n",
      "   macro avg       0.82      0.58      0.61     30001\n",
      "weighted avg       0.91      0.92      0.90     30001\n",
      "\n",
      "Confusion Matrix:\n",
      "[[27253   159]\n",
      " [ 2173   416]]\n"
     ]
    }
   ],
   "source": [
    "from sklearn.linear_model import RidgeClassifier\n",
    "\n",
    "pipe_ridge_class = Pipeline([\n",
    "    ('scaler', StandardScaler()),\n",
    "    ('ridge', RidgeClassifier(alpha=1.0))\n",
    "])\n",
    "\n",
    "pipe_ridge_class.fit(X_train, y_train)\n",
    "y_pred_class = pipe_ridge_class.predict(X_test)\n",
    "\n",
    "# Évaluation Classification\n",
    "from sklearn.metrics import classification_report, confusion_matrix\n",
    "print(\"Classification Report:\")\n",
    "print(classification_report(y_test, y_pred_class))\n",
    "print(\"Confusion Matrix:\")\n",
    "print(confusion_matrix(y_test, y_pred_class))\n"
   ]
  },
  {
   "cell_type": "markdown",
   "id": "c53e929f-003d-44b5-bbf3-8db9018aef3b",
   "metadata": {},
   "source": [
    "RandomForest avec SMOTE et ENN"
   ]
  },
  {
   "cell_type": "code",
   "execution_count": 18,
   "id": "2cbc019d-01ab-4a41-a45e-bda122366699",
   "metadata": {},
   "outputs": [
    {
     "name": "stdout",
     "output_type": "stream",
     "text": [
      "Accuracy: 0.9994666844438519\n",
      "Classification Report:\n",
      "              precision    recall  f1-score   support\n",
      "\n",
      "         0.0       1.00      1.00      1.00     27412\n",
      "         1.0       0.99      1.00      1.00      2589\n",
      "\n",
      "    accuracy                           1.00     30001\n",
      "   macro avg       1.00      1.00      1.00     30001\n",
      "weighted avg       1.00      1.00      1.00     30001\n",
      "\n",
      "Confusion Matrix:\n",
      "[[27397    15]\n",
      " [    1  2588]]\n"
     ]
    }
   ],
   "source": [
    "X_train, X_test, y_train, y_test = train_test_split(X, y, test_size=0.3, random_state=42)\n",
    "# Appliquer le sous-échantillonnage\n",
    "smt = SMOTEENN(random_state=42)\n",
    "x_train_ENN, y_train_ENN = smt.fit_resample(X_train, y_train)\n",
    "pipe_rf_smote=Pipeline([\n",
    "    ('scaler', StandardScaler()),\n",
    "    ('rf', RandomForestClassifier(class_weight='balanced', random_state=42))\n",
    "])\n",
    "pipe_rf_smote.fit(x_train_ENN, y_train_ENN)\n",
    "    \n",
    "# Prédiction\n",
    "y_pred = pipe_rf_smote.predict(X_test)\n",
    "    \n",
    "# Évaluation\n",
    "\n",
    "print(\"Accuracy:\", accuracy_score(y_test, y_pred))\n",
    "print(\"Classification Report:\")\n",
    "print(classification_report(y_test, y_pred))\n",
    "print(\"Confusion Matrix:\")\n",
    "print(confusion_matrix(y_test, y_pred))"
   ]
  },
  {
   "cell_type": "markdown",
   "id": "936810f7-cff8-4031-b35b-0c9fc331f844",
   "metadata": {},
   "source": [
    "On s'est inspiré de cette cette page pour le ENN: https://onlinelibrary.wiley.com/doi/full/10.1155/2022/3649406"
   ]
  },
  {
   "cell_type": "markdown",
   "id": "729dcc9c-34ef-4ac3-aa89-93d4deb7a5df",
   "metadata": {},
   "source": [
    "Le ENN était sensé enlever les valeurs abérantes mais on n'obtient pas un meilleur résultat comparé avec celui qu'avec le smote. C'est peut être du au sur-filtrage des données minoritaires. ENN peut parfois éliminer des points importants de la classe minoritaire, ce qui réduit l'efficacité de l'équilibrage."
   ]
  },
  {
   "cell_type": "markdown",
   "id": "697222f8-4aa8-4603-bfd5-38504d9cbffc",
   "metadata": {},
   "source": [
    "On implemente la cross-validation pour verifier"
   ]
  },
  {
   "cell_type": "code",
   "execution_count": 30,
   "id": "3906ca9d-31b4-4477-b821-f89e0457a8d2",
   "metadata": {},
   "outputs": [
    {
     "name": "stdout",
     "output_type": "stream",
     "text": [
      "Cross-Validation Accuracy Scores: [1.         1.         1.         0.99997261 0.99997261]\n",
      "Mean Cross-Validation Accuracy: 0.9999890458976888\n"
     ]
    }
   ],
   "source": [
    "X = df.loc[:50000].drop('fraud', axis=1)\n",
    "y = df.loc[:50000,\"fraud\"]\n",
    "# Définir la validation croisée\n",
    "cv = StratifiedKFold(n_splits=5, shuffle=True, random_state=42)\n",
    "\n",
    "# Évaluer le modèle avec la validation croisée\n",
    "cross_val_scores = cross_val_score(pipe_rf, X_train_smote, y_train_smote, cv=cv, scoring='accuracy')\n",
    "\n",
    "print(\"Cross-Validation Accuracy Scores:\", cross_val_scores)\n",
    "print(\"Mean Cross-Validation Accuracy:\", cross_val_scores.mean())"
   ]
  }
 ],
 "metadata": {
  "kernelspec": {
   "display_name": "Python 3 (ipykernel)",
   "language": "python",
   "name": "python3"
  },
  "language_info": {
   "codemirror_mode": {
    "name": "ipython",
    "version": 3
   },
   "file_extension": ".py",
   "mimetype": "text/x-python",
   "name": "python",
   "nbconvert_exporter": "python",
   "pygments_lexer": "ipython3",
   "version": "3.12.7"
  }
 },
 "nbformat": 4,
 "nbformat_minor": 5
}
